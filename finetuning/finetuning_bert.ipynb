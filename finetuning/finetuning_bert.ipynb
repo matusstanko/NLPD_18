{
 "cells": [
  {
   "cell_type": "code",
   "execution_count": 1,
   "metadata": {},
   "outputs": [
    {
     "name": "stderr",
     "output_type": "stream",
     "text": [
      "c:\\Users\\lucan\\AppData\\Local\\Programs\\Python\\Python312\\Lib\\site-packages\\tqdm\\auto.py:21: TqdmWarning: IProgress not found. Please update jupyter and ipywidgets. See https://ipywidgets.readthedocs.io/en/stable/user_install.html\n",
      "  from .autonotebook import tqdm as notebook_tqdm\n"
     ]
    }
   ],
   "source": [
    "from transformers import BertTokenizerFast\n",
    "from sklearn.model_selection import train_test_split\n",
    "import pandas as pd\n",
    "import torch\n",
    "from transformers import BertForSequenceClassification, Trainer, TrainingArguments\n",
    "from sklearn.metrics import classification_report, accuracy_score"
   ]
  },
  {
   "cell_type": "code",
   "execution_count": 2,
   "metadata": {},
   "outputs": [
    {
     "data": {
      "text/html": [
       "<div>\n",
       "<style scoped>\n",
       "    .dataframe tbody tr th:only-of-type {\n",
       "        vertical-align: middle;\n",
       "    }\n",
       "\n",
       "    .dataframe tbody tr th {\n",
       "        vertical-align: top;\n",
       "    }\n",
       "\n",
       "    .dataframe thead th {\n",
       "        text-align: right;\n",
       "    }\n",
       "</style>\n",
       "<table border=\"1\" class=\"dataframe\">\n",
       "  <thead>\n",
       "    <tr style=\"text-align: right;\">\n",
       "      <th></th>\n",
       "      <th>A_tagged</th>\n",
       "      <th>label_binary</th>\n",
       "    </tr>\n",
       "  </thead>\n",
       "  <tbody>\n",
       "    <tr>\n",
       "      <th>0</th>\n",
       "      <td>90 percent of &lt;MISC&gt;Americans&lt;/MISC&gt; \"support ...</td>\n",
       "      <td>1</td>\n",
       "    </tr>\n",
       "    <tr>\n",
       "      <th>1</th>\n",
       "      <td>Last year was one of the deadliest years ever ...</td>\n",
       "      <td>0</td>\n",
       "    </tr>\n",
       "    <tr>\n",
       "      <th>2</th>\n",
       "      <td>&lt;PER&gt;Bernie&lt;/PER&gt; &lt;PER&gt;Sanders&lt;/PER&gt;'s plan is...</td>\n",
       "      <td>0</td>\n",
       "    </tr>\n",
       "    <tr>\n",
       "      <th>3</th>\n",
       "      <td>Voter ID is supported by an overwhelming major...</td>\n",
       "      <td>1</td>\n",
       "    </tr>\n",
       "    <tr>\n",
       "      <th>4</th>\n",
       "      <td>Says &lt;PER&gt;Barack&lt;/PER&gt; &lt;PER&gt;Obama&lt;/PER&gt; \"robbe...</td>\n",
       "      <td>0</td>\n",
       "    </tr>\n",
       "    <tr>\n",
       "      <th>...</th>\n",
       "      <td>...</td>\n",
       "      <td>...</td>\n",
       "    </tr>\n",
       "    <tr>\n",
       "      <th>18364</th>\n",
       "      <td>18 million illegal immigrants got their govern...</td>\n",
       "      <td>0</td>\n",
       "    </tr>\n",
       "    <tr>\n",
       "      <th>18365</th>\n",
       "      <td>Says restoring &lt;LOC&gt;Georgia&lt;/LOC&gt; pre-k to a 1...</td>\n",
       "      <td>1</td>\n",
       "    </tr>\n",
       "    <tr>\n",
       "      <th>18366</th>\n",
       "      <td>There is clear legal authority to handcuff and...</td>\n",
       "      <td>0</td>\n",
       "    </tr>\n",
       "    <tr>\n",
       "      <th>18367</th>\n",
       "      <td>Says &lt;PER&gt;George&lt;/PER&gt; &lt;PER&gt;Washington&lt;/PER&gt; s...</td>\n",
       "      <td>0</td>\n",
       "    </tr>\n",
       "    <tr>\n",
       "      <th>18368</th>\n",
       "      <td>Says a photo shows &lt;PER&gt;Brett&lt;/PER&gt; &lt;PER&gt;Kavan...</td>\n",
       "      <td>0</td>\n",
       "    </tr>\n",
       "  </tbody>\n",
       "</table>\n",
       "<p>18369 rows × 2 columns</p>\n",
       "</div>"
      ],
      "text/plain": [
       "                                                A_tagged  label_binary\n",
       "0      90 percent of <MISC>Americans</MISC> \"support ...             1\n",
       "1      Last year was one of the deadliest years ever ...             0\n",
       "2      <PER>Bernie</PER> <PER>Sanders</PER>'s plan is...             0\n",
       "3      Voter ID is supported by an overwhelming major...             1\n",
       "4      Says <PER>Barack</PER> <PER>Obama</PER> \"robbe...             0\n",
       "...                                                  ...           ...\n",
       "18364  18 million illegal immigrants got their govern...             0\n",
       "18365  Says restoring <LOC>Georgia</LOC> pre-k to a 1...             1\n",
       "18366  There is clear legal authority to handcuff and...             0\n",
       "18367  Says <PER>George</PER> <PER>Washington</PER> s...             0\n",
       "18368  Says a photo shows <PER>Brett</PER> <PER>Kavan...             0\n",
       "\n",
       "[18369 rows x 2 columns]"
      ]
     },
     "execution_count": 2,
     "metadata": {},
     "output_type": "execute_result"
    }
   ],
   "source": [
    "df = pd.read_csv('AB_tagged_train.csv')\n",
    "df = df[['A_tagged', 'label_binary']]\n",
    "df"
   ]
  },
  {
   "cell_type": "code",
   "execution_count": 3,
   "metadata": {},
   "outputs": [],
   "source": [
    "\n",
    "tokenizer = BertTokenizerFast.from_pretrained(\"bert-base-uncased\")\n",
    "\n",
    "special_tokens = ['[PER_]', '[/PER_]', '[MISC_]', '[/MISC_]', '[LOC_]', '[/LOC_]', '[ORG_]', '[/ORG_]']\n",
    "# add to tokenizer\n",
    "tokenizer.add_tokens(special_tokens, special_tokens=True)\n",
    "\n",
    "# assume df is your DataFrame\n",
    "X = df[\"A_tagged\"].tolist()\n",
    "y = df[\"label_binary\"].tolist()\n",
    "\n",
    "# train/test split\n",
    "X_train, X_val, y_train, y_val = train_test_split(X, y, test_size=0.2)\n",
    "\n",
    "train_encodings = tokenizer(X_train, truncation=True, padding=True)\n",
    "val_encodings = tokenizer(X_val, truncation=True, padding=True)\n"
   ]
  },
  {
   "cell_type": "code",
   "execution_count": 4,
   "metadata": {},
   "outputs": [],
   "source": [
    "# creating custom pytorch dataset (correct format for bert)\n",
    "class check(torch.utils.data.Dataset):\n",
    "    def __init__(self, encodings, labels):\n",
    "        self.encodings = encodings # tokenized input\n",
    "        self.labels = labels\n",
    "\n",
    "    def __len__(self): # to stop iterations\n",
    "        return len(self.labels)\n",
    "\n",
    "    def __getitem__(self, index): # gets data at index i\n",
    "        item = {}\n",
    "        for key in self.encodings: \n",
    "            item[key] = torch.tensor(self.encodings[key][index])\n",
    "        item[\"labels\"] = torch.tensor(self.labels[index]) \n",
    "        return item # \"input_ids\": tensor([...]), \"attention_mask\": tensor([...]), \"labels\": tensor(0)\n"
   ]
  },
  {
   "cell_type": "code",
   "execution_count": 5,
   "metadata": {},
   "outputs": [
    {
     "name": "stderr",
     "output_type": "stream",
     "text": [
      "Some weights of BertForSequenceClassification were not initialized from the model checkpoint at bert-base-uncased and are newly initialized: ['classifier.bias', 'classifier.weight']\n",
      "You should probably TRAIN this model on a down-stream task to be able to use it for predictions and inference.\n",
      "The new embeddings will be initialized from a multivariate normal distribution that has old embeddings' mean and covariance. As described in this article: https://nlp.stanford.edu/~johnhew/vocab-expansion.html. To disable this, use `mean_resizing=False`\n",
      "c:\\Users\\lucan\\AppData\\Local\\Programs\\Python\\Python312\\Lib\\site-packages\\transformers\\training_args.py:1611: FutureWarning: `evaluation_strategy` is deprecated and will be removed in version 4.46 of 🤗 Transformers. Use `eval_strategy` instead\n",
      "  warnings.warn(\n"
     ]
    },
    {
     "name": "stdout",
     "output_type": "stream",
     "text": [
      "GPU available: True\n",
      "Device: NVIDIA GeForce RTX 4060\n"
     ]
    },
    {
     "data": {
      "text/html": [
       "\n",
       "    <div>\n",
       "      \n",
       "      <progress value='1838' max='1838' style='width:300px; height:20px; vertical-align: middle;'></progress>\n",
       "      [1838/1838 1:26:19, Epoch 2/2]\n",
       "    </div>\n",
       "    <table border=\"1\" class=\"dataframe\">\n",
       "  <thead>\n",
       " <tr style=\"text-align: left;\">\n",
       "      <th>Epoch</th>\n",
       "      <th>Training Loss</th>\n",
       "      <th>Validation Loss</th>\n",
       "    </tr>\n",
       "  </thead>\n",
       "  <tbody>\n",
       "    <tr>\n",
       "      <td>1</td>\n",
       "      <td>0.594400</td>\n",
       "      <td>0.561927</td>\n",
       "    </tr>\n",
       "    <tr>\n",
       "      <td>2</td>\n",
       "      <td>0.472300</td>\n",
       "      <td>0.589311</td>\n",
       "    </tr>\n",
       "  </tbody>\n",
       "</table><p>"
      ],
      "text/plain": [
       "<IPython.core.display.HTML object>"
      ]
     },
     "metadata": {},
     "output_type": "display_data"
    },
    {
     "data": {
      "text/plain": [
       "TrainOutput(global_step=1838, training_loss=0.5333720675230804, metrics={'train_runtime': 5180.0663, 'train_samples_per_second': 5.674, 'train_steps_per_second': 0.355, 'total_flos': 5165291405516400.0, 'train_loss': 0.5333720675230804, 'epoch': 2.0})"
      ]
     },
     "execution_count": 5,
     "metadata": {},
     "output_type": "execute_result"
    }
   ],
   "source": [
    "model = BertForSequenceClassification.from_pretrained(\"bert-base-uncased\", num_labels=2)\n",
    "model.resize_token_embeddings(len(tokenizer))\n",
    "\n",
    "# wrap tokenized data in the custom dataset\n",
    "train_dataset = check(train_encodings, y_train)\n",
    "val_dataset = check(val_encodings, y_val)\n",
    "\n",
    "# set up training arguments\n",
    "training_args = TrainingArguments(\n",
    "    output_dir=\"./results\", # save model files here\n",
    "    evaluation_strategy=\"epoch\", # evaluate at end of each epoch\n",
    "    logging_strategy=\"epoch\", # log at end of each epoch\n",
    "    per_device_train_batch_size=16,\n",
    "    per_device_eval_batch_size=16,\n",
    "    num_train_epochs=2, # number of epochs\n",
    "    weight_decay=0.01, # regularization to prevent overfitting\n",
    "    logging_dir=\"./logs\", # for tensorboard/logs\n",
    ")\n",
    "\n",
    "# check if GPU is available\n",
    "print(\"GPU available:\", torch.cuda.is_available())\n",
    "print(\"Device:\", torch.cuda.get_device_name(0) if torch.cuda.is_available() else \"CPU\")\n",
    "\n",
    "# initialize Huggingface Trainer\n",
    "trainer = Trainer( # connects model, args, and data into one Trainer object\n",
    "    model=model,\n",
    "    args=training_args,\n",
    "    train_dataset=train_dataset,\n",
    "    eval_dataset=val_dataset,\n",
    ")\n",
    "trainer.train() # train the model"
   ]
  },
  {
   "cell_type": "code",
   "execution_count": 6,
   "metadata": {},
   "outputs": [
    {
     "data": {
      "text/html": [],
      "text/plain": [
       "<IPython.core.display.HTML object>"
      ]
     },
     "metadata": {},
     "output_type": "display_data"
    },
    {
     "name": "stdout",
     "output_type": "stream",
     "text": [
      "Accuracy: 0.7060104529616724\n",
      "\n",
      "Classification Report:\n",
      "\n",
      "              precision    recall  f1-score   support\n",
      "\n",
      "           0       0.79      0.67      0.72      1323\n",
      "           1       0.63      0.76      0.69       973\n",
      "\n",
      "    accuracy                           0.71      2296\n",
      "   macro avg       0.71      0.71      0.70      2296\n",
      "weighted avg       0.72      0.71      0.71      2296\n",
      "\n"
     ]
    }
   ],
   "source": [
    "# load test data\n",
    "df_test = pd.read_csv(\"AB_tagged_test.csv\")\n",
    "X_test = df_test[\"A_tagged\"].tolist()\n",
    "y_true = df_test[\"label_binary\"].tolist()\n",
    "\n",
    "# tokenize\n",
    "test_encodings = tokenizer(X_test, truncation=True, padding=True)\n",
    "test_dataset = check(test_encodings, y_true)\n",
    "\n",
    "# predict\n",
    "outputs = trainer.predict(test_dataset)\n",
    "y_pred = outputs.predictions.argmax(axis=1)\n",
    "\n",
    "# report results\n",
    "print(\"Accuracy:\", accuracy_score(y_true, y_pred))\n",
    "print(\"\\nClassification Report:\\n\")\n",
    "print(classification_report(y_true, y_pred))"
   ]
  },
  {
   "cell_type": "code",
   "execution_count": null,
   "metadata": {},
   "outputs": [],
   "source": []
  }
 ],
 "metadata": {
  "kernelspec": {
   "display_name": "Python 3",
   "language": "python",
   "name": "python3"
  },
  "language_info": {
   "codemirror_mode": {
    "name": "ipython",
    "version": 3
   },
   "file_extension": ".py",
   "mimetype": "text/x-python",
   "name": "python",
   "nbconvert_exporter": "python",
   "pygments_lexer": "ipython3",
   "version": "3.12.5"
  }
 },
 "nbformat": 4,
 "nbformat_minor": 2
}
