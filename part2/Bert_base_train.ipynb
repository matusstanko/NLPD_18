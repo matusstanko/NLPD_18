{
 "cells": [
  {
   "cell_type": "code",
   "execution_count": null,
   "id": "6a1c9182-5b27-470b-800d-b27c657463e3",
   "metadata": {},
   "outputs": [],
   "source": [
    "# Import libraries\n",
    "import pandas as pd\n",
    "import numpy as np\n",
    "import ast\n",
    "from tqdm import tqdm\n",
    "from sklearn.model_selection import train_test_split\n",
    "from sklearn.metrics import accuracy_score, f1_score, precision_score, recall_score\n",
    "from transformers import BertTokenizerFast, BertForSequenceClassification\n",
    "from transformers import Trainer, TrainingArguments\n",
    "from transformers import EarlyStoppingCallback\n",
    "import torch\n",
    "print('1/6 libraries loaded')"
   ]
  },
  {
   "cell_type": "code",
   "execution_count": 7,
   "id": "31e4d09d-bcf8-4ad9-9656-508ea30f5b0e",
   "metadata": {},
   "outputs": [],
   "source": [
    "# Choose parameters for BERT \n",
    "# These were decided from gridsearch training\n",
    "\n",
    "experiment_configs = [{\n",
    "    \"name\": \"best_model_run\",\n",
    "    \"epochs\": 2,\n",
    "    \"batch_size\": 32,\n",
    "    \"lr\": 2e-5\n",
    "}]"
   ]
  },
  {
   "cell_type": "code",
   "execution_count": 8,
   "id": "78c4eb8e-dc68-4007-baa8-2361e46b732c",
   "metadata": {},
   "outputs": [
    {
     "name": "stdout",
     "output_type": "stream",
     "text": [
      "2/6 data loaded\n"
     ]
    }
   ],
   "source": [
    "\n",
    "# Load train, valid and test data\n",
    "df_train = pd.read_csv('/home/matus/NLPD_18/part1/outputs/output_train.csv')\n",
    "df_valid = pd.read_csv('/home/matus/NLPD_18/part1/outputs/output_valid.csv')\n",
    "df_test = pd.read_csv('/home/matus/NLPD_18/part1/outputs/output_test.csv')\n",
    "print('2/6 data loaded')"
   ]
  },
  {
   "cell_type": "code",
   "execution_count": 9,
   "id": "e763e97d-eadf-4777-a1ea-1e651bd8a27b",
   "metadata": {},
   "outputs": [],
   "source": [
    "# Join train+validation data and shuffle \n",
    "df_train_merged = pd.concat([df_train, df_valid], ignore_index=True)\n",
    "df_train_merged = df_train_merged.sample(frac=1, random_state=42).reset_index(drop=True)"
   ]
  },
  {
   "cell_type": "code",
   "execution_count": 10,
   "id": "d3b03d2a-f063-4603-8b1c-8c21c700a591",
   "metadata": {},
   "outputs": [
    {
     "name": "stderr",
     "output_type": "stream",
     "text": [
      "Some weights of BertForSequenceClassification were not initialized from the model checkpoint at bert-base-uncased and are newly initialized: ['classifier.bias', 'classifier.weight']\n",
      "You should probably TRAIN this model on a down-stream task to be able to use it for predictions and inference.\n"
     ]
    }
   ],
   "source": [
    "# Load tokenizer and model without XML tags\n",
    "tokenizer = BertTokenizerFast.from_pretrained(\"bert-base-uncased\")\n",
    "model = BertForSequenceClassification.from_pretrained(\"bert-base-uncased\", num_labels=2)\n",
    "\n",
    "# Tokenize plain statements\n",
    "train_encodings = tokenizer(\n",
    "    df_train_merged['statement'].tolist(),\n",
    "    truncation=True,\n",
    "    padding=True\n",
    ")\n",
    "\n",
    "test_encodings = tokenizer(\n",
    "    df_test['statement'].tolist(),\n",
    "    truncation=True,\n",
    "    padding=True\n",
    ")\n",
    "\n",
    "# Labels\n",
    "train_labels = df_train_merged['label_binary'].tolist()\n",
    "test_labels = df_test['label_binary'].tolist()"
   ]
  },
  {
   "cell_type": "code",
   "execution_count": 11,
   "id": "69b8b4ce-b6fb-4f36-aea7-5c672a163578",
   "metadata": {},
   "outputs": [
    {
     "name": "stdout",
     "output_type": "stream",
     "text": [
      "4/6 Converted to datasets\n"
     ]
    }
   ],
   "source": [
    "\n",
    "# Save as dataset\n",
    "class NERDataset(torch.utils.data.Dataset):\n",
    "    def __init__(self, encodings, labels):\n",
    "        self.encodings = encodings\n",
    "        self.labels = labels\n",
    "\n",
    "    def __getitem__(self, idx):\n",
    "        item = {key: torch.tensor(val[idx]) for key, val in self.encodings.items()}\n",
    "        item[\"labels\"] = torch.tensor(self.labels[idx])\n",
    "        return item\n",
    "\n",
    "    def __len__(self):\n",
    "        return len(self.labels)\n",
    "\n",
    "train_dataset = NERDataset(train_encodings, train_labels)\n",
    "test_dataset = NERDataset(test_encodings, test_labels)\n",
    "print('4/6 Converted to datasets')"
   ]
  },
  {
   "cell_type": "code",
   "execution_count": 12,
   "id": "3c4d755f-f055-42eb-b877-d99c2680036b",
   "metadata": {},
   "outputs": [],
   "source": [
    "\n",
    "def compute_metrics(pred):\n",
    "    labels = pred.label_ids\n",
    "    preds = pred.predictions.argmax(-1)\n",
    "    return {\n",
    "        'accuracy': accuracy_score(labels, preds),\n",
    "        'f1': f1_score(labels, preds),\n",
    "        'precision': precision_score(labels, preds),\n",
    "        'recall': recall_score(labels, preds)\n",
    "    }\n"
   ]
  },
  {
   "cell_type": "code",
   "execution_count": null,
   "id": "b837a776-77e7-4b99-ae40-2a6e836de47a",
   "metadata": {},
   "outputs": [],
   "source": [
    "\n",
    "# TRAIN\n",
    "print('Training in progress')\n",
    "\n",
    "all_results = []\n",
    "\n",
    "for config in experiment_configs:\n",
    "    print(f\"Training {config['name']}...\")\n",
    "\n",
    "    model = BertForSequenceClassification.from_pretrained(\"bert-base-uncased\", num_labels=2)\n",
    "\n",
    "    #REMOVE THIS LINE SINCE THIS TIME NO XML TOKENS\n",
    "    #model.resize_token_embeddings(len(tokenizer))\n",
    "\n",
    "    training_args = TrainingArguments(\n",
    "        output_dir=f\"./results/{config['name']}\",\n",
    "        evaluation_strategy=\"epoch\",\n",
    "        logging_strategy=\"epoch\",\n",
    "        per_device_train_batch_size=config['batch_size'],\n",
    "        per_device_eval_batch_size=config['batch_size'],\n",
    "        num_train_epochs=config['epochs'],\n",
    "        learning_rate=config['lr'],\n",
    "        weight_decay=0.01,\n",
    "        logging_dir=f\"./logs/{config['name']}\",\n",
    "        save_strategy=\"epoch\",\n",
    "        report_to=\"none\",  # don't use wandb/huggingface\n",
    "        metric_for_best_model=\"f1\",        # 👈 Use F1 for early stopping\n",
    "        greater_is_better=True,            # 👈 Higher F1 = better\n",
    "        load_best_model_at_end=True,\n",
    "        fp16=True\n",
    "    )\n",
    "\n",
    "    trainer = Trainer(\n",
    "        model=model,\n",
    "        args=training_args,\n",
    "        train_dataset=train_dataset,\n",
    "        eval_dataset=test_dataset,\n",
    "        compute_metrics=compute_metrics,\n",
    "        callbacks=[EarlyStoppingCallback(early_stopping_patience=2)]\n",
    "    )\n",
    "\n",
    "    trainer.train()\n",
    "    eval_result = trainer.evaluate()\n",
    "\n",
    "    all_results.append({\n",
    "    \"name\": config[\"name\"],\n",
    "    \"epochs\": config[\"epochs\"],\n",
    "    \"batch_size\": config[\"batch_size\"],\n",
    "    \"lr\": config[\"lr\"],\n",
    "    \"accuracy\": eval_result.get(\"eval_accuracy\", None),\n",
    "    \"f1\": eval_result.get(\"eval_f1\", None),\n",
    "    \"precision\": eval_result.get(\"eval_precision\", None),\n",
    "    \"recall\": eval_result.get(\"eval_recall\", None),\n",
    "    \"best_f1\": trainer.state.best_metric,\n",
    "    \"final_epoch\": trainer.state.epoch,\n",
    "    \"best_checkpoint\": trainer.state.best_model_checkpoint,\n",
    "    \"best_step\": int(trainer.state.best_model_checkpoint.split(\"-\")[-1]) if trainer.state.best_model_checkpoint else None\n",
    "})\n",
    "\n",
    "\n",
    "\n",
    "print('5/6 training done. Saving as csv')\n",
    "\n",
    "results_df = pd.DataFrame(all_results)\n",
    "\n",
    "results_df.to_csv(\"bert_base_train.csv\", index=False)\n",
    "print('6/6 saved as .csv')\n",
    "\n",
    "\n",
    "trainer.save_model(\"./base_model_part2\")\n",
    "tokenizer.save_pretrained(\"./base_model_part2\")\n"
   ]
  }
 ],
 "metadata": {
  "kernelspec": {
   "display_name": "Python 3 (ipykernel)",
   "language": "python",
   "name": "python3"
  },
  "language_info": {
   "codemirror_mode": {
    "name": "ipython",
    "version": 3
   },
   "file_extension": ".py",
   "mimetype": "text/x-python",
   "name": "python",
   "nbconvert_exporter": "python",
   "pygments_lexer": "ipython3",
   "version": "3.11.7"
  }
 },
 "nbformat": 4,
 "nbformat_minor": 5
}
