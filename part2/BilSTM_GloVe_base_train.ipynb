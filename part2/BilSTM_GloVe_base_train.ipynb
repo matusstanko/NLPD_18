{
 "cells": [
  {
   "cell_type": "code",
   "execution_count": 6,
   "id": "a61a14a1-ea8c-4a2a-bf87-dc3082efffaf",
   "metadata": {},
   "outputs": [
    {
     "name": "stdout",
     "output_type": "stream",
     "text": [
      "✅ Libraries loaded.\n"
     ]
    },
    {
     "name": "stderr",
     "output_type": "stream",
     "text": [
      "[nltk_data] Downloading package punkt to /home/matus/nltk_data...\n",
      "[nltk_data]   Package punkt is already up-to-date!\n"
     ]
    }
   ],
   "source": [
    "# ✅ Import libraries\n",
    "from sklearn.metrics import precision_score, recall_score, accuracy_score, f1_score\n",
    "import pandas as pd\n",
    "import numpy as np\n",
    "import torch\n",
    "import torch.nn as nn\n",
    "from torch.utils.data import Dataset, DataLoader\n",
    "from torch.nn.utils.rnn import pad_sequence\n",
    "from nltk.tokenize import word_tokenize\n",
    "from collections import Counter\n",
    "import nltk\n",
    "nltk.download('punkt')\n",
    "print(\"✅ Libraries loaded.\")"
   ]
  },
  {
   "cell_type": "code",
   "execution_count": 7,
   "id": "2fd270af-bbeb-4513-9179-ecdccc6ea4a9",
   "metadata": {},
   "outputs": [
    {
     "name": "stdout",
     "output_type": "stream",
     "text": [
      "✅ Loaded 400000 GloVe vectors.\n"
     ]
    }
   ],
   "source": [
    "\n",
    "# ✅ Load GloVe\n",
    "glove_path = 'glove_data/glove.6B.100d.txt'\n",
    "embedding_dim = 100\n",
    "glove_embeddings = {}\n",
    "with open(glove_path, 'r', encoding='utf8') as f:\n",
    "    for line in f:\n",
    "        values = line.strip().split()\n",
    "        word = values[0]\n",
    "        vec = np.array(values[1:], dtype='float32')\n",
    "        glove_embeddings[word] = vec\n",
    "print(f\"✅ Loaded {len(glove_embeddings)} GloVe vectors.\")\n"
   ]
  },
  {
   "cell_type": "code",
   "execution_count": 8,
   "id": "338de43e-1cc3-4259-a48e-a640e44d93ff",
   "metadata": {},
   "outputs": [],
   "source": [
    "\n",
    "# ✅ Best parameters\n",
    "hidden_dim = 64\n",
    "dropout = 0.1\n",
    "lr = 1e-2\n",
    "epochs = 10\n",
    "patience = 2"
   ]
  },
  {
   "cell_type": "code",
   "execution_count": 9,
   "id": "b65e8961-3857-4663-8421-8cee2a43dc67",
   "metadata": {},
   "outputs": [
    {
     "name": "stdout",
     "output_type": "stream",
     "text": [
      "✅ Train shape: (18369, 5), Valid shape: (2297, 4), Test shape: (2296, 5)\n"
     ]
    }
   ],
   "source": [
    "\n",
    "# ✅ Load CSVs\n",
    "df_train = pd.read_csv('/home/matus/NLPD_18/part1/outputs/output_train.csv')\n",
    "df_valid = pd.read_csv('/home/matus/NLPD_18/part1/outputs/output_valid.csv')\n",
    "df_test = pd.read_csv('/home/matus/NLPD_18/part1/outputs/output_test.csv')\n",
    "print(f\"✅ Train shape: {df_train.shape}, Valid shape: {df_valid.shape}, Test shape: {df_test.shape}\")"
   ]
  },
  {
   "cell_type": "code",
   "execution_count": 10,
   "id": "ce17521d-5429-4d40-8f5b-08ae39d7b0ad",
   "metadata": {},
   "outputs": [
    {
     "name": "stdout",
     "output_type": "stream",
     "text": [
      "✅ Vocab size: 23519\n",
      "✅ Embedding matrix ready\n"
     ]
    }
   ],
   "source": [
    "\n",
    "# ✅ Tokenize plain sentences (no XML)\n",
    "df_train['tokens'] = df_train['statement'].apply(word_tokenize)\n",
    "df_valid['tokens'] = df_valid['statement'].apply(word_tokenize)\n",
    "df_test['tokens'] = df_test['statement'].apply(word_tokenize)\n",
    "\n",
    "# ✅ Combine train + valid\n",
    "df_final_train = pd.concat([df_train, df_valid], ignore_index=True)\n",
    "\n",
    "# ✅ Build vocab\n",
    "all_tokens = [token for sent in df_final_train['tokens'] for token in sent]\n",
    "vocab = {'<PAD>': 0, '<UNK>': 1}\n",
    "vocab.update({word: idx + 2 for idx, word in enumerate(Counter(all_tokens))})\n",
    "print(f\"✅ Vocab size: {len(vocab)}\")\n",
    "\n",
    "# ✅ Encode tokens\n",
    "def encode(tokens, vocab):\n",
    "    return [vocab.get(t, vocab['<UNK>']) for t in tokens]\n",
    "\n",
    "df_final_train['input_ids'] = df_final_train['tokens'].apply(lambda x: encode(x, vocab))\n",
    "df_test['input_ids'] = df_test['tokens'].apply(lambda x: encode(x, vocab))\n",
    "\n",
    "# ✅ Embedding matrix\n",
    "embedding_matrix = np.zeros((len(vocab), embedding_dim))\n",
    "for word, idx in vocab.items():\n",
    "    vec = glove_embeddings.get(word)\n",
    "    if vec is not None:\n",
    "        embedding_matrix[idx] = vec\n",
    "    else:\n",
    "        embedding_matrix[idx] = np.random.normal(scale=0.6, size=(embedding_dim,))\n",
    "print(\"✅ Embedding matrix ready\")\n"
   ]
  },
  {
   "cell_type": "code",
   "execution_count": 11,
   "id": "de777af8-ede4-4b38-bdcb-7d7cac796f74",
   "metadata": {},
   "outputs": [],
   "source": [
    "\n",
    "# ✅ Dataset & DataLoader\n",
    "class SimpleDataset(Dataset):\n",
    "    def __init__(self, input_ids, labels):\n",
    "        self.data = list(zip(input_ids, labels))\n",
    "    def __len__(self): return len(self.data)\n",
    "    def __getitem__(self, idx): return self.data[idx]\n",
    "\n",
    "def collate_fn(batch):\n",
    "    input_ids, labels = zip(*batch)\n",
    "    padded = pad_sequence([torch.tensor(x) for x in input_ids], batch_first=True, padding_value=0)\n",
    "    return padded, torch.tensor(labels)"
   ]
  },
  {
   "cell_type": "code",
   "execution_count": 12,
   "id": "137c2c3d-7318-4a52-b099-4404f7074a37",
   "metadata": {},
   "outputs": [
    {
     "name": "stdout",
     "output_type": "stream",
     "text": [
      "✅ Final DataLoaders ready\n"
     ]
    }
   ],
   "source": [
    "\n",
    "train_dataset = SimpleDataset(df_final_train['input_ids'].tolist(), df_final_train['label_binary'].tolist())\n",
    "test_dataset = SimpleDataset(df_test['input_ids'].tolist(), df_test['label_binary'].tolist())\n",
    "\n",
    "train_loader = DataLoader(train_dataset, batch_size=32, shuffle=True, collate_fn=collate_fn)\n",
    "test_loader = DataLoader(test_dataset, batch_size=32, shuffle=False, collate_fn=collate_fn)\n",
    "print(\"✅ Final DataLoaders ready\")"
   ]
  },
  {
   "cell_type": "code",
   "execution_count": 13,
   "id": "9e9e2b79-100e-4921-87c1-d8f6522ee164",
   "metadata": {},
   "outputs": [],
   "source": [
    "\n",
    "# ✅ BiLSTM Model\n",
    "class BiLSTMClassifier(nn.Module):\n",
    "    def __init__(self, embedding_matrix, hidden_dim=128, num_classes=2, dropout=0.3):\n",
    "        super().__init__()\n",
    "        num_embeddings, embedding_dim = embedding_matrix.shape\n",
    "        self.embedding = nn.Embedding.from_pretrained(torch.tensor(embedding_matrix, dtype=torch.float), freeze=False, padding_idx=0)\n",
    "        self.lstm = nn.LSTM(embedding_dim, hidden_dim, batch_first=True, bidirectional=True)\n",
    "        self.dropout = nn.Dropout(dropout)\n",
    "        self.fc = nn.Linear(hidden_dim * 2, num_classes)\n",
    "    def forward(self, x):\n",
    "        x = self.embedding(x)\n",
    "        lstm_out, _ = self.lstm(x)\n",
    "        out = torch.mean(lstm_out, dim=1)\n",
    "        out = self.dropout(out)\n",
    "        return self.fc(out)"
   ]
  },
  {
   "cell_type": "code",
   "execution_count": null,
   "id": "2b57aef7-5ac1-46e0-a15b-1d98ebee0cce",
   "metadata": {},
   "outputs": [],
   "source": [
    "\n",
    "# ✅ Final train + test evaluation\n",
    "def train_final_model(model, train_loader, test_loader, epochs, lr, device, patience=2):\n",
    "    model.to(device)\n",
    "    optimizer = torch.optim.Adam(model.parameters(), lr=lr)\n",
    "    loss_fn = nn.CrossEntropyLoss()\n",
    "\n",
    "    for epoch in range(epochs):\n",
    "        model.train()\n",
    "        for inputs, labels in train_loader:\n",
    "            inputs, labels = inputs.to(device), labels.to(device)\n",
    "            optimizer.zero_grad()\n",
    "            outputs = model(inputs)\n",
    "            loss = loss_fn(outputs, labels)\n",
    "            loss.backward()\n",
    "            optimizer.step()\n",
    "        print(f\"✅ Epoch {epoch+1}/{epochs} complete.\")\n",
    "\n",
    "    # Evaluation on test\n",
    "    model.eval()\n",
    "    all_preds, all_labels = [], []\n",
    "    with torch.no_grad():\n",
    "        for inputs, labels in test_loader:\n",
    "            inputs = inputs.to(device)\n",
    "            outputs = model(inputs)\n",
    "            preds = torch.argmax(outputs, dim=1).cpu().numpy()\n",
    "            all_preds.extend(preds)\n",
    "            all_labels.extend(labels.numpy())\n",
    "\n",
    "    acc = accuracy_score(all_labels, all_preds)\n",
    "    f1 = f1_score(all_labels, all_preds)\n",
    "    prec = precision_score(all_labels, all_preds)\n",
    "    rec = recall_score(all_labels, all_preds)\n",
    "\n",
    "    print(f\"\\n🧪 Test Results — Accuracy: {acc:.4f} | F1: {f1:.4f} | Precision: {prec:.4f} | Recall: {rec:.4f}\")\n",
    "    return acc, f1, prec, rec\n",
    "\n",
    "# ✅ Run final training\n",
    "device = torch.device(\"cuda\" if torch.cuda.is_available() else \"cpu\")\n",
    "print(f\"🔧 Using device: {device}\")\n",
    "\n",
    "final_model = BiLSTMClassifier(embedding_matrix=embedding_matrix, hidden_dim=hidden_dim, dropout=dropout)\n",
    "acc, f1, prec, rec = train_final_model(final_model, train_loader, test_loader, epochs, lr, device, patience)\n",
    "\n",
    "# ✅ Save results\n",
    "pd.DataFrame([{\n",
    "    \"accuracy\": acc,\n",
    "    \"f1\": f1,\n",
    "    \"precision\": prec,\n",
    "    \"recall\": rec\n",
    "}]).to_csv(\"BiLSTM_GloVe_base_train.csv\", index=False)"
   ]
  }
 ],
 "metadata": {
  "kernelspec": {
   "display_name": "Python 3 (ipykernel)",
   "language": "python",
   "name": "python3"
  },
  "language_info": {
   "codemirror_mode": {
    "name": "ipython",
    "version": 3
   },
   "file_extension": ".py",
   "mimetype": "text/x-python",
   "name": "python",
   "nbconvert_exporter": "python",
   "pygments_lexer": "ipython3",
   "version": "3.10.16"
  }
 },
 "nbformat": 4,
 "nbformat_minor": 5
}
