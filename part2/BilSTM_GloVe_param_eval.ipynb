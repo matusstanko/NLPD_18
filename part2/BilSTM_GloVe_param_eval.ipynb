{
 "cells": [
  {
   "cell_type": "code",
   "execution_count": 1,
   "id": "8d04d7ee-8e5b-4b98-9285-da1eea3890a6",
   "metadata": {},
   "outputs": [
    {
     "name": "stderr",
     "output_type": "stream",
     "text": [
      "[nltk_data] Downloading package punkt to /home/matus/nltk_data...\n",
      "[nltk_data]   Package punkt is already up-to-date!\n",
      "[nltk_data] Downloading package punkt_tab to /home/matus/nltk_data...\n"
     ]
    },
    {
     "name": "stdout",
     "output_type": "stream",
     "text": [
      "✅ Libraries loaded.\n"
     ]
    },
    {
     "name": "stderr",
     "output_type": "stream",
     "text": [
      "[nltk_data]   Package punkt_tab is already up-to-date!\n"
     ]
    }
   ],
   "source": [
    "# ✅ Import libraries\n",
    "from sklearn.metrics import precision_score, recall_score\n",
    "import pandas as pd\n",
    "import numpy as np\n",
    "import torch\n",
    "import torch.nn as nn\n",
    "from torch.utils.data import Dataset, DataLoader\n",
    "from torch.nn.utils.rnn import pad_sequence\n",
    "from sklearn.metrics import accuracy_score, f1_score\n",
    "from nltk.tokenize import word_tokenize\n",
    "from collections import Counter\n",
    "from tqdm import tqdm\n",
    "import ast\n",
    "import nltk\n",
    "nltk.download('punkt')\n",
    "nltk.download('punkt_tab')\n",
    "print(\"✅ Libraries loaded.\")"
   ]
  },
  {
   "cell_type": "code",
   "execution_count": 3,
   "id": "f7b1c38b-3d04-4c3d-9136-a48a87546f51",
   "metadata": {},
   "outputs": [
    {
     "name": "stdout",
     "output_type": "stream",
     "text": [
      "✅ Loaded 400000 GloVe vectors.\n"
     ]
    }
   ],
   "source": [
    "# ✅ Load GloVe\n",
    "glove_path = 'glove_data/glove.6B.100d.txt'\n",
    "embedding_dim = 100\n",
    "glove_embeddings = {}\n",
    "with open(glove_path, 'r', encoding='utf8') as f:\n",
    "    for line in f:\n",
    "        values = line.strip().split()\n",
    "        word = values[0]\n",
    "        vec = np.array(values[1:], dtype='float32')\n",
    "        glove_embeddings[word] = vec\n",
    "print(f\"✅ Loaded {len(glove_embeddings)} GloVe vectors.\")"
   ]
  },
  {
   "cell_type": "code",
   "execution_count": 4,
   "id": "7dd4f6ee-810c-4d15-9b26-f8f188d51715",
   "metadata": {},
   "outputs": [],
   "source": [
    "# Grid setup\n",
    "param_grid = {\n",
    "    \"hidden_dim\": [64, 128, 256],\n",
    "    \"dropout\": [0.1, 0.3, 0.5],\n",
    "    \"lr\": [1e-2, 5e-3, 1e-3, 5e-4, 1e-4]\n",
    "}\n",
    "epochs = 10\n",
    "patience = 2"
   ]
  },
  {
   "cell_type": "code",
   "execution_count": 5,
   "id": "1c964061-be68-413b-87f5-12fc80e5a3e2",
   "metadata": {},
   "outputs": [
    {
     "name": "stdout",
     "output_type": "stream",
     "text": [
      "✅ Train shape: (18369, 5), Valid shape: (2297, 4)\n"
     ]
    }
   ],
   "source": [
    "\n",
    "# ✅ Load CSVs\n",
    "df_train = pd.read_csv('/home/matus/NLPD_18/part1/outputs/output_train.csv')\n",
    "df_valid = pd.read_csv('/home/matus/NLPD_18/part1/outputs/output_valid.csv')\n",
    "print(f\"✅ Train shape: {df_train.shape}, Valid shape: {df_valid.shape}\")"
   ]
  },
  {
   "cell_type": "code",
   "execution_count": 6,
   "id": "e4159988-2089-46f5-9baf-22429e450718",
   "metadata": {},
   "outputs": [
    {
     "name": "stderr",
     "output_type": "stream",
     "text": [
      "100%|███████████████████████████████████| 18369/18369 [00:01<00:00, 9936.73it/s]\n",
      "100%|█████████████████████████████████████| 2297/2297 [00:00<00:00, 9751.89it/s]\n"
     ]
    },
    {
     "name": "stdout",
     "output_type": "stream",
     "text": [
      "✅ XML tags added\n"
     ]
    }
   ],
   "source": [
    "\n",
    "# ✅ XML tagging functions\n",
    "def merge_adjacent_entities(entities):\n",
    "    if not entities: return []\n",
    "    entities = sorted(entities, key=lambda x: x['start'])\n",
    "    merged = [entities[0]]\n",
    "    for current in entities[1:]:\n",
    "        last = merged[-1]\n",
    "        if current['entity'] == last['entity'] and current['start'] <= last['end'] + 1:\n",
    "            last['end'] = current['end']\n",
    "        else:\n",
    "            merged.append(current)\n",
    "    return merged\n",
    "\n",
    "def insert_xml_tags(text, entities):\n",
    "    if not entities: return text\n",
    "    if isinstance(entities, str):\n",
    "        try: entities = ast.literal_eval(entities)\n",
    "        except: return text\n",
    "    entities = merge_adjacent_entities(entities)\n",
    "    entities.sort(key=lambda x: x['start'])\n",
    "    offset = 0\n",
    "    for ent in entities:\n",
    "        open_tag = f\"<{ent['entity']}>\"\n",
    "        close_tag = f\"</{ent['entity']}>\"\n",
    "        start = ent['start'] + offset\n",
    "        end = ent['end'] + offset\n",
    "        text = text[:start] + open_tag + text[start:end] + close_tag + text[end:]\n",
    "        offset += len(open_tag) + len(close_tag)\n",
    "    return text\n",
    "\n",
    "# ✅ Apply XML\n",
    "tqdm.pandas()\n",
    "df_train['A_XML_statement'] = df_train.progress_apply(lambda row: insert_xml_tags(row['statement'], row['A_raw_entities']), axis=1)\n",
    "df_valid['A_XML_statement'] = df_valid.progress_apply(lambda row: insert_xml_tags(row['statement'], row['A_raw_entities']), axis=1)\n",
    "print(\"✅ XML tags added\")\n",
    "\n",
    "# ✅ Tokenize\n",
    "df_train['tokens'] = df_train['A_XML_statement'].apply(word_tokenize)\n",
    "df_valid['tokens'] = df_valid['A_XML_statement'].apply(word_tokenize)\n"
   ]
  },
  {
   "cell_type": "code",
   "execution_count": 7,
   "id": "51d7ff55-3ae2-475d-a1dd-32e66c66db58",
   "metadata": {},
   "outputs": [
    {
     "name": "stdout",
     "output_type": "stream",
     "text": [
      "✅ Vocab size: 22429\n"
     ]
    }
   ],
   "source": [
    "\n",
    "# ✅ Build vocab\n",
    "all_tokens = [token for sent in df_train['tokens'] for token in sent]\n",
    "vocab = {'<PAD>': 0, '<UNK>': 1}\n",
    "vocab.update({word: idx + 2 for idx, word in enumerate(Counter(all_tokens))})\n",
    "print(f\"✅ Vocab size: {len(vocab)}\")\n",
    "\n",
    "# ✅ Encode tokens\n",
    "def encode(tokens, vocab):\n",
    "    return [vocab.get(t, vocab['<UNK>']) for t in tokens]\n",
    "\n",
    "df_train['input_ids'] = df_train['tokens'].apply(lambda x: encode(x, vocab))\n",
    "df_valid['input_ids'] = df_valid['tokens'].apply(lambda x: encode(x, vocab))"
   ]
  },
  {
   "cell_type": "code",
   "execution_count": 8,
   "id": "8c327c66-3923-49b8-b25d-b28ea36872c8",
   "metadata": {},
   "outputs": [
    {
     "name": "stdout",
     "output_type": "stream",
     "text": [
      "✅ Embedding matrix ready\n"
     ]
    }
   ],
   "source": [
    "\n",
    "# ✅ Embedding matrix\n",
    "embedding_matrix = np.zeros((len(vocab), embedding_dim))\n",
    "for word, idx in vocab.items():\n",
    "    vec = glove_embeddings.get(word)\n",
    "    if vec is not None:\n",
    "        embedding_matrix[idx] = vec\n",
    "    else:\n",
    "        embedding_matrix[idx] = np.random.normal(scale=0.6, size=(embedding_dim,))\n",
    "print(\"✅ Embedding matrix ready\")\n",
    "\n",
    "# ✅ Dataset & DataLoader\n",
    "class SimpleDataset(Dataset):\n",
    "    def __init__(self, input_ids, labels):\n",
    "        self.data = list(zip(input_ids, labels))\n",
    "    def __len__(self): return len(self.data)\n",
    "    def __getitem__(self, idx): return self.data[idx]\n",
    "\n",
    "def collate_fn(batch):\n",
    "    input_ids, labels = zip(*batch)\n",
    "    padded = pad_sequence([torch.tensor(x) for x in input_ids], batch_first=True, padding_value=0)\n",
    "    return padded, torch.tensor(labels)"
   ]
  },
  {
   "cell_type": "code",
   "execution_count": 9,
   "id": "ebcd4e1e-33b4-4de7-85ef-6fde2aa213d2",
   "metadata": {},
   "outputs": [
    {
     "name": "stdout",
     "output_type": "stream",
     "text": [
      "✅ DataLoaders ready\n"
     ]
    }
   ],
   "source": [
    "\n",
    "train_dataset = SimpleDataset(df_train['input_ids'].tolist(), df_train['label_binary'].tolist())\n",
    "valid_dataset = SimpleDataset(df_valid['input_ids'].tolist(), df_valid['label_binary'].tolist())\n",
    "\n",
    "train_loader = DataLoader(train_dataset, batch_size=32, shuffle=True, collate_fn=collate_fn)\n",
    "valid_loader = DataLoader(valid_dataset, batch_size=32, shuffle=False, collate_fn=collate_fn)\n",
    "print(\"✅ DataLoaders ready\")"
   ]
  },
  {
   "cell_type": "code",
   "execution_count": 10,
   "id": "d22dbbb4-0005-4ee1-bd2f-7cab080a72d7",
   "metadata": {},
   "outputs": [],
   "source": [
    "\n",
    "# ✅ BiLSTM with GloVe\n",
    "class BiLSTMClassifier(nn.Module):\n",
    "    def __init__(self, embedding_matrix, hidden_dim=128, num_classes=2, dropout=0.3):\n",
    "        super().__init__()\n",
    "        num_embeddings, embedding_dim = embedding_matrix.shape\n",
    "        self.embedding = nn.Embedding.from_pretrained(torch.tensor(embedding_matrix, dtype=torch.float), freeze=False, padding_idx=0)\n",
    "        self.lstm = nn.LSTM(embedding_dim, hidden_dim, batch_first=True, bidirectional=True)\n",
    "        self.dropout = nn.Dropout(dropout)\n",
    "        self.fc = nn.Linear(hidden_dim * 2, num_classes)\n",
    "    def forward(self, x):\n",
    "        x = self.embedding(x)\n",
    "        lstm_out, _ = self.lstm(x)\n",
    "        out = torch.mean(lstm_out, dim=1)  # mean pooling instead of last timestep\n",
    "        out = self.dropout(out)\n",
    "        return self.fc(out)"
   ]
  },
  {
   "cell_type": "code",
   "execution_count": null,
   "id": "69715969-c3e9-4605-9566-b093cb4760f6",
   "metadata": {},
   "outputs": [],
   "source": [
    "\n",
    "device = torch.device(\"cuda\" if torch.cuda.is_available() else \"cpu\")\n",
    "print(f\"🔧 Using device: {device}\")\n",
    "\n",
    "results = []\n",
    "try_id = 1\n",
    "\n",
    "def train_model_return_scores(model, train_loader, valid_loader, epochs, lr, device, patience=2):\n",
    "    model.to(device)\n",
    "    optimizer = torch.optim.Adam(model.parameters(), lr=lr)\n",
    "    loss_fn = nn.CrossEntropyLoss()\n",
    "\n",
    "    best_f1 = 0\n",
    "    best_epoch = 0\n",
    "    epochs_no_improve = 0\n",
    "\n",
    "    all_preds, all_labels = [], []\n",
    "    for epoch in range(epochs):\n",
    "        model.train()\n",
    "        for inputs, labels in train_loader:\n",
    "            inputs, labels = inputs.to(device), labels.to(device)\n",
    "            optimizer.zero_grad()\n",
    "            outputs = model(inputs)\n",
    "            loss = loss_fn(outputs, labels)\n",
    "            loss.backward()\n",
    "            optimizer.step()\n",
    "\n",
    "        # Validation\n",
    "        model.eval()\n",
    "        all_preds, all_labels = [], []\n",
    "        with torch.no_grad():\n",
    "            for inputs, labels in valid_loader:\n",
    "                inputs = inputs.to(device)\n",
    "                outputs = model(inputs)\n",
    "                preds = torch.argmax(outputs, dim=1).cpu().numpy()\n",
    "                all_preds.extend(preds)\n",
    "                all_labels.extend(labels.numpy())\n",
    "\n",
    "        acc = accuracy_score(all_labels, all_preds)\n",
    "        f1 = f1_score(all_labels, all_preds)\n",
    "        prec = precision_score(all_labels, all_preds)\n",
    "        rec = recall_score(all_labels, all_preds)\n",
    "\n",
    "        print(f\"📚 Epoch {epoch+1}/{epochs} | Val Acc: {acc:.4f} | F1: {f1:.4f}\")\n",
    "\n",
    "        if f1 > best_f1:\n",
    "            best_f1 = f1\n",
    "            best_epoch = epoch + 1\n",
    "            epochs_no_improve = 0\n",
    "        else:\n",
    "            epochs_no_improve += 1\n",
    "            if epochs_no_improve >= patience:\n",
    "                print(\"🛑 Early stopping\")\n",
    "                break\n",
    "\n",
    "    return acc, f1, prec, rec, epoch + 1, best_epoch"
   ]
  },
  {
   "cell_type": "code",
   "execution_count": null,
   "id": "7662789f-ed50-42e5-a706-6264daac18af",
   "metadata": {},
   "outputs": [],
   "source": [
    "\n",
    "# 🔁 Grid Search Loop\n",
    "for hd in param_grid['hidden_dim']:\n",
    "    for do in param_grid['dropout']:\n",
    "        for lr in param_grid['lr']:\n",
    "            print(f\"\\n🔍 Try {try_id} | hidden_dim={hd}, dropout={do}, lr={lr}\")\n",
    "            model = BiLSTMClassifier(embedding_matrix=embedding_matrix, hidden_dim=hd, dropout=do)\n",
    "            acc, f1, prec, rec, total_epochs, best_epoch = train_model_return_scores(\n",
    "                model, train_loader, valid_loader, epochs, lr, device, patience\n",
    "            )\n",
    "            results.append({\n",
    "                \"try_id\": try_id,\n",
    "                \"hidden_dim\": hd,\n",
    "                \"dropout\": do,\n",
    "                \"lr\": lr,\n",
    "                \"accuracy\": acc,\n",
    "                \"f1\": f1,\n",
    "                \"precision\": prec,\n",
    "                \"recall\": rec,\n",
    "                \"total_epochs\": total_epochs,\n",
    "                \"best_epoch\": best_epoch\n",
    "            })\n",
    "            try_id += 1"
   ]
  },
  {
   "cell_type": "code",
   "execution_count": null,
   "id": "4280f4c7-0ccb-45c5-ae46-edb1f56ca3a3",
   "metadata": {},
   "outputs": [],
   "source": [
    "\n",
    "# 💾 Save results\n",
    "results_df = pd.DataFrame(results)\n",
    "results_df = results_df.sort_values(by=\"f1\", ascending=False)\n",
    "results_df.to_csv(\"BilSTM_GloVe_eval.csv\", index=False)\n",
    "print(\"✅ Results saved to bilstm_gridsearch_results.csv\")"
   ]
  }
 ],
 "metadata": {
  "kernelspec": {
   "display_name": "Python 3 (ipykernel)",
   "language": "python",
   "name": "python3"
  },
  "language_info": {
   "codemirror_mode": {
    "name": "ipython",
    "version": 3
   },
   "file_extension": ".py",
   "mimetype": "text/x-python",
   "name": "python",
   "nbconvert_exporter": "python",
   "pygments_lexer": "ipython3",
   "version": "3.10.16"
  }
 },
 "nbformat": 4,
 "nbformat_minor": 5
}
