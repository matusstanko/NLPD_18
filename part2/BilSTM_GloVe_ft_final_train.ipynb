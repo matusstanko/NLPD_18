{
 "cells": [
  {
   "cell_type": "code",
   "execution_count": 12,
   "id": "4492bbc0-4846-4cff-a332-f3bc10015e00",
   "metadata": {},
   "outputs": [
    {
     "name": "stdout",
     "output_type": "stream",
     "text": [
      "✅ Libraries loaded.\n"
     ]
    },
    {
     "name": "stderr",
     "output_type": "stream",
     "text": [
      "[nltk_data] Downloading package punkt to /home/matus/nltk_data...\n",
      "[nltk_data]   Package punkt is already up-to-date!\n",
      "[nltk_data] Downloading package punkt_tab to /home/matus/nltk_data...\n",
      "[nltk_data]   Package punkt_tab is already up-to-date!\n"
     ]
    }
   ],
   "source": [
    "# ✅ Import libraries\n",
    "from sklearn.metrics import precision_score, recall_score, accuracy_score, f1_score\n",
    "import pandas as pd\n",
    "import numpy as np\n",
    "import torch\n",
    "import torch.nn as nn\n",
    "from torch.utils.data import Dataset, DataLoader\n",
    "from torch.nn.utils.rnn import pad_sequence\n",
    "from nltk.tokenize import word_tokenize\n",
    "from collections import Counter\n",
    "from tqdm import tqdm\n",
    "import ast\n",
    "import nltk\n",
    "nltk.download('punkt')\n",
    "nltk.download('punkt_tab')\n",
    "print(\"✅ Libraries loaded.\")"
   ]
  },
  {
   "cell_type": "code",
   "execution_count": 13,
   "id": "d082c6bb-e504-4467-9cff-22cffd5a514a",
   "metadata": {},
   "outputs": [
    {
     "name": "stdout",
     "output_type": "stream",
     "text": [
      "✅ Loaded 400000 GloVe vectors.\n"
     ]
    }
   ],
   "source": [
    "\n",
    "# ✅ Load GloVe\n",
    "glove_path = 'glove_data/glove.6B.100d.txt'\n",
    "embedding_dim = 100\n",
    "glove_embeddings = {}\n",
    "with open(glove_path, 'r', encoding='utf8') as f:\n",
    "    for line in f:\n",
    "        values = line.strip().split()\n",
    "        word = values[0]\n",
    "        vec = np.array(values[1:], dtype='float32')\n",
    "        glove_embeddings[word] = vec\n",
    "print(f\"✅ Loaded {len(glove_embeddings)} GloVe vectors.\")"
   ]
  },
  {
   "cell_type": "code",
   "execution_count": 14,
   "id": "9c48daf6-19d8-4cb5-8bc7-40a7924fc79f",
   "metadata": {},
   "outputs": [],
   "source": [
    "# ✅ Best parameters\n",
    "hidden_dim = 128\n",
    "dropout = 0.3\n",
    "lr = 1e-3\n",
    "epochs = 3\n",
    "patience = 2"
   ]
  },
  {
   "cell_type": "code",
   "execution_count": 15,
   "id": "481f4677-a2d5-420d-9d84-ee75f6ae2b94",
   "metadata": {},
   "outputs": [
    {
     "name": "stdout",
     "output_type": "stream",
     "text": [
      "✅ Train shape: (18369, 5), Valid shape: (2297, 4), Test shape: (2296, 5)\n"
     ]
    }
   ],
   "source": [
    "\n",
    "# ✅ Load CSVs\n",
    "df_train = pd.read_csv('/home/matus/NLPD_18/part1/outputs/output_train.csv')\n",
    "df_valid = pd.read_csv('/home/matus/NLPD_18/part1/outputs/output_valid.csv')\n",
    "df_test = pd.read_csv('/home/matus/NLPD_18/part1/outputs/output_test.csv')\n",
    "print(f\"✅ Train shape: {df_train.shape}, Valid shape: {df_valid.shape}, Test shape: {df_test.shape}\")"
   ]
  },
  {
   "cell_type": "code",
   "execution_count": 16,
   "id": "bd470c2d-491b-4585-9580-def6b8470d5e",
   "metadata": {},
   "outputs": [],
   "source": [
    "\n",
    "# ✅ XML tagging\n",
    "def merge_adjacent_entities(entities):\n",
    "    if not entities: return []\n",
    "    entities = sorted(entities, key=lambda x: x['start'])\n",
    "    merged = [entities[0]]\n",
    "    for current in entities[1:]:\n",
    "        last = merged[-1]\n",
    "        if current['entity'] == last['entity'] and current['start'] <= last['end'] + 1:\n",
    "            last['end'] = current['end']\n",
    "        else:\n",
    "            merged.append(current)\n",
    "    return merged\n",
    "\n",
    "def insert_xml_tags(text, entities):\n",
    "    if not entities: return text\n",
    "    if isinstance(entities, str):\n",
    "        try: entities = ast.literal_eval(entities)\n",
    "        except: return text\n",
    "    entities = merge_adjacent_entities(entities)\n",
    "    entities.sort(key=lambda x: x['start'])\n",
    "    offset = 0\n",
    "    for ent in entities:\n",
    "        open_tag = f\"<{ent['entity']}>\"\n",
    "        close_tag = f\"</{ent['entity']}>\"\n",
    "        start = ent['start'] + offset\n",
    "        end = ent['end'] + offset\n",
    "        text = text[:start] + open_tag + text[start:end] + close_tag + text[end:]\n",
    "        offset += len(open_tag) + len(close_tag)\n",
    "    return text"
   ]
  },
  {
   "cell_type": "code",
   "execution_count": 17,
   "id": "a6d2149a-0b08-4746-8751-2470fa40108c",
   "metadata": {},
   "outputs": [
    {
     "name": "stderr",
     "output_type": "stream",
     "text": [
      "100%|███████████████████████████████████| 18369/18369 [00:01<00:00, 9509.96it/s]\n",
      "100%|█████████████████████████████████████| 2297/2297 [00:00<00:00, 9278.00it/s]\n",
      "100%|█████████████████████████████████████| 2296/2296 [00:00<00:00, 9265.52it/s]"
     ]
    },
    {
     "name": "stdout",
     "output_type": "stream",
     "text": [
      "✅ XML tags added\n"
     ]
    },
    {
     "name": "stderr",
     "output_type": "stream",
     "text": [
      "\n"
     ]
    }
   ],
   "source": [
    "\n",
    "tqdm.pandas()\n",
    "df_train['A_XML_statement'] = df_train.progress_apply(lambda row: insert_xml_tags(row['statement'], row['A_raw_entities']), axis=1)\n",
    "df_valid['A_XML_statement'] = df_valid.progress_apply(lambda row: insert_xml_tags(row['statement'], row['A_raw_entities']), axis=1)\n",
    "df_test['A_XML_statement'] = df_test.progress_apply(lambda row: insert_xml_tags(row['statement'], row['A_raw_entities']), axis=1)\n",
    "print(\"✅ XML tags added\")"
   ]
  },
  {
   "cell_type": "code",
   "execution_count": 18,
   "id": "7a6315ae-ebaf-4e01-80c8-81dfdf1756c0",
   "metadata": {},
   "outputs": [],
   "source": [
    "\n",
    "# ✅ Tokenize\n",
    "df_train['tokens'] = df_train['A_XML_statement'].apply(word_tokenize)\n",
    "df_valid['tokens'] = df_valid['A_XML_statement'].apply(word_tokenize)\n",
    "df_test['tokens'] = df_test['A_XML_statement'].apply(word_tokenize)\n",
    "\n",
    "# ✅ Combine train + valid\n",
    "df_final_train = pd.concat([df_train, df_valid], ignore_index=True)"
   ]
  },
  {
   "cell_type": "code",
   "execution_count": 19,
   "id": "904d038c-4ec9-47d1-b3c2-89f71efc9684",
   "metadata": {},
   "outputs": [
    {
     "name": "stdout",
     "output_type": "stream",
     "text": [
      "✅ Vocab size: 23619\n",
      "✅ Embedding matrix ready\n"
     ]
    }
   ],
   "source": [
    "\n",
    "# ✅ Build vocab\n",
    "all_tokens = [token for sent in df_final_train['tokens'] for token in sent]\n",
    "vocab = {'<PAD>': 0, '<UNK>': 1}\n",
    "vocab.update({word: idx + 2 for idx, word in enumerate(Counter(all_tokens))})\n",
    "print(f\"✅ Vocab size: {len(vocab)}\")\n",
    "\n",
    "# ✅ Encode tokens\n",
    "def encode(tokens, vocab):\n",
    "    return [vocab.get(t, vocab['<UNK>']) for t in tokens]\n",
    "\n",
    "df_final_train['input_ids'] = df_final_train['tokens'].apply(lambda x: encode(x, vocab))\n",
    "df_test['input_ids'] = df_test['tokens'].apply(lambda x: encode(x, vocab))\n",
    "\n",
    "# ✅ Embedding matrix\n",
    "embedding_matrix = np.zeros((len(vocab), embedding_dim))\n",
    "for word, idx in vocab.items():\n",
    "    vec = glove_embeddings.get(word)\n",
    "    if vec is not None:\n",
    "        embedding_matrix[idx] = vec\n",
    "    else:\n",
    "        embedding_matrix[idx] = np.random.normal(scale=0.6, size=(embedding_dim,))\n",
    "print(\"✅ Embedding matrix ready\")"
   ]
  },
  {
   "cell_type": "code",
   "execution_count": 20,
   "id": "76e8566a-2afe-40e6-8654-814b575ef197",
   "metadata": {},
   "outputs": [],
   "source": [
    "\n",
    "# ✅ Dataset & DataLoader\n",
    "class SimpleDataset(Dataset):\n",
    "    def __init__(self, input_ids, labels):\n",
    "        self.data = list(zip(input_ids, labels))\n",
    "    def __len__(self): return len(self.data)\n",
    "    def __getitem__(self, idx): return self.data[idx]\n",
    "\n",
    "def collate_fn(batch):\n",
    "    input_ids, labels = zip(*batch)\n",
    "    padded = pad_sequence([torch.tensor(x) for x in input_ids], batch_first=True, padding_value=0)\n",
    "    return padded, torch.tensor(labels)"
   ]
  },
  {
   "cell_type": "code",
   "execution_count": 21,
   "id": "72cf94d1-948c-4888-8fd4-8d697d0c5322",
   "metadata": {},
   "outputs": [
    {
     "name": "stdout",
     "output_type": "stream",
     "text": [
      "✅ Final DataLoaders ready\n"
     ]
    }
   ],
   "source": [
    "\n",
    "train_dataset = SimpleDataset(df_final_train['input_ids'].tolist(), df_final_train['label_binary'].tolist())\n",
    "test_dataset = SimpleDataset(df_test['input_ids'].tolist(), df_test['label_binary'].tolist())\n",
    "\n",
    "train_loader = DataLoader(train_dataset, batch_size=32, shuffle=True, collate_fn=collate_fn)\n",
    "test_loader = DataLoader(test_dataset, batch_size=32, shuffle=False, collate_fn=collate_fn)\n",
    "print(\"✅ Final DataLoaders ready\")"
   ]
  },
  {
   "cell_type": "code",
   "execution_count": 22,
   "id": "a5c2c282-26ef-4000-b968-60247e20c9b9",
   "metadata": {},
   "outputs": [],
   "source": [
    "\n",
    "# ✅ BiLSTM with GloVe\n",
    "class BiLSTMClassifier(nn.Module):\n",
    "    def __init__(self, embedding_matrix, hidden_dim=128, num_classes=2, dropout=0.3):\n",
    "        super().__init__()\n",
    "        num_embeddings, embedding_dim = embedding_matrix.shape\n",
    "        self.embedding = nn.Embedding.from_pretrained(torch.tensor(embedding_matrix, dtype=torch.float), freeze=False, padding_idx=0)\n",
    "        self.lstm = nn.LSTM(embedding_dim, hidden_dim, batch_first=True, bidirectional=True)\n",
    "        self.dropout = nn.Dropout(dropout)\n",
    "        self.fc = nn.Linear(hidden_dim * 2, num_classes)\n",
    "    def forward(self, x):\n",
    "        x = self.embedding(x)\n",
    "        lstm_out, _ = self.lstm(x)\n",
    "        out = torch.mean(lstm_out, dim=1)\n",
    "        out = self.dropout(out)\n",
    "        return self.fc(out)\n"
   ]
  },
  {
   "cell_type": "code",
   "execution_count": null,
   "id": "8e484d9d-19c8-44f0-ba7e-f1d08bf2a190",
   "metadata": {},
   "outputs": [],
   "source": [
    "\n",
    "# ✅ Train function\n",
    "def train_final_model(model, train_loader, test_loader, epochs, lr, device, patience=2):\n",
    "    model.to(device)\n",
    "    optimizer = torch.optim.Adam(model.parameters(), lr=lr)\n",
    "    loss_fn = nn.CrossEntropyLoss()\n",
    "\n",
    "    best_f1 = 0\n",
    "    epochs_no_improve = 0\n",
    "\n",
    "    for epoch in range(epochs):\n",
    "        model.train()\n",
    "        for inputs, labels in train_loader:\n",
    "            inputs, labels = inputs.to(device), labels.to(device)\n",
    "            optimizer.zero_grad()\n",
    "            outputs = model(inputs)\n",
    "            loss = loss_fn(outputs, labels)\n",
    "            loss.backward()\n",
    "            optimizer.step()\n",
    "\n",
    "        # Optional: Print training progress\n",
    "        print(f\"✅ Epoch {epoch+1}/{epochs} complete.\")\n",
    "\n",
    "    # Evaluation on test set\n",
    "    model.eval()\n",
    "    all_preds, all_labels = [], []\n",
    "    with torch.no_grad():\n",
    "        for inputs, labels in test_loader:\n",
    "            inputs = inputs.to(device)\n",
    "            outputs = model(inputs)\n",
    "            preds = torch.argmax(outputs, dim=1).cpu().numpy()\n",
    "            all_preds.extend(preds)\n",
    "            all_labels.extend(labels.numpy())\n",
    "\n",
    "    acc = accuracy_score(all_labels, all_preds)\n",
    "    f1 = f1_score(all_labels, all_preds)\n",
    "    prec = precision_score(all_labels, all_preds)\n",
    "    rec = recall_score(all_labels, all_preds)\n",
    "\n",
    "    print(f\"\\n🧪 Test Results — Accuracy: {acc:.4f} | F1: {f1:.4f} | Precision: {prec:.4f} | Recall: {rec:.4f}\")\n",
    "    return acc, f1, prec, rec\n",
    "\n",
    "# ✅ Run Final Training\n",
    "device = torch.device(\"cuda\" if torch.cuda.is_available() else \"cpu\")\n",
    "print(f\"🔧 Using device: {device}\")\n",
    "\n",
    "final_model = BiLSTMClassifier(embedding_matrix=embedding_matrix, hidden_dim=hidden_dim, dropout=dropout)\n",
    "acc, f1, prec, rec = train_final_model(final_model, train_loader, test_loader, epochs, lr, device, patience)\n",
    "\n",
    "# ✅ Save test evaluation results\n",
    "pd.DataFrame([{\n",
    "    \"accuracy\": acc,\n",
    "    \"f1\": f1,\n",
    "    \"precision\": prec,\n",
    "    \"recall\": rec\n",
    "}]).to_csv(\"BiLSTM_GloVe_ft_final_train.csv\", index=False)"
   ]
  }
 ],
 "metadata": {
  "kernelspec": {
   "display_name": "Python 3 (ipykernel)",
   "language": "python",
   "name": "python3"
  },
  "language_info": {
   "codemirror_mode": {
    "name": "ipython",
    "version": 3
   },
   "file_extension": ".py",
   "mimetype": "text/x-python",
   "name": "python",
   "nbconvert_exporter": "python",
   "pygments_lexer": "ipython3",
   "version": "3.10.16"
  }
 },
 "nbformat": 4,
 "nbformat_minor": 5
}
