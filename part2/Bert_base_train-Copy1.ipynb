{
 "cells": [
  {
   "cell_type": "code",
   "execution_count": 1,
   "id": "6a1c9182-5b27-470b-800d-b27c657463e3",
   "metadata": {},
   "outputs": [
    {
     "name": "stdout",
     "output_type": "stream",
     "text": [
      "1/6 libraries loaded\n"
     ]
    }
   ],
   "source": [
    "# Import libraries\n",
    "import pandas as pd\n",
    "import numpy as np\n",
    "import ast\n",
    "from tqdm import tqdm\n",
    "from sklearn.model_selection import train_test_split\n",
    "from sklearn.metrics import accuracy_score, f1_score, precision_score, recall_score\n",
    "from transformers import BertTokenizerFast, BertForSequenceClassification\n",
    "from transformers import Trainer, TrainingArguments\n",
    "from transformers import EarlyStoppingCallback\n",
    "import torch\n",
    "print('1/6 libraries loaded')"
   ]
  },
  {
   "cell_type": "code",
   "execution_count": 3,
   "id": "31e4d09d-bcf8-4ad9-9656-508ea30f5b0e",
   "metadata": {},
   "outputs": [],
   "source": [
    "# Choose parameters for BERT \n",
    "# These were decided from gridsearch training\n",
    "\n",
    "experiment_configs = [{\n",
    "    \"name\": \"best_model_run\",\n",
    "    \"epochs\": 2,\n",
    "    \"batch_size\": 32,\n",
    "    \"lr\": 2e-5\n",
    "}]"
   ]
  },
  {
   "cell_type": "code",
   "execution_count": 4,
   "id": "78c4eb8e-dc68-4007-baa8-2361e46b732c",
   "metadata": {},
   "outputs": [
    {
     "name": "stdout",
     "output_type": "stream",
     "text": [
      "2/6 data loaded\n"
     ]
    }
   ],
   "source": [
    "\n",
    "# Load train, valid and test data\n",
    "df_train = pd.read_csv('/home/matus/NLPD_18/part1/outputs/output_train.csv')\n",
    "df_valid = pd.read_csv('/home/matus/NLPD_18/part1/outputs/output_valid.csv')\n",
    "df_test = pd.read_csv('/home/matus/NLPD_18/part1/outputs/output_test.csv')\n",
    "print('2/6 data loaded')"
   ]
  },
  {
   "cell_type": "code",
   "execution_count": 5,
   "id": "e763e97d-eadf-4777-a1ea-1e651bd8a27b",
   "metadata": {},
   "outputs": [],
   "source": [
    "# Join train+validation data and shuffle \n",
    "df_train_merged = pd.concat([df_train, df_valid], ignore_index=True)\n",
    "df_train_merged = df_train_merged.sample(frac=1, random_state=42).reset_index(drop=True)"
   ]
  },
  {
   "cell_type": "code",
   "execution_count": 6,
   "id": "d3b03d2a-f063-4603-8b1c-8c21c700a591",
   "metadata": {},
   "outputs": [
    {
     "name": "stderr",
     "output_type": "stream",
     "text": [
      "Some weights of BertForSequenceClassification were not initialized from the model checkpoint at bert-base-cased and are newly initialized: ['classifier.bias', 'classifier.weight']\n",
      "You should probably TRAIN this model on a down-stream task to be able to use it for predictions and inference.\n"
     ]
    }
   ],
   "source": [
    "# Load tokenizer and model without XML tags\n",
    "tokenizer = BertTokenizerFast.from_pretrained(\"bert-base-cased\")\n",
    "model = BertForSequenceClassification.from_pretrained(\"bert-base-cased\", num_labels=2)\n",
    "# Tokenize plain statements\n",
    "train_encodings = tokenizer(\n",
    "    df_train_merged['statement'].tolist(),\n",
    "    truncation=True,\n",
    "    padding=True\n",
    ")\n",
    "\n",
    "test_encodings = tokenizer(\n",
    "    df_test['statement'].tolist(),\n",
    "    truncation=True,\n",
    "    padding=True\n",
    ")\n",
    "\n",
    "# Labels\n",
    "train_labels = df_train_merged['label_binary'].tolist()\n",
    "test_labels = df_test['label_binary'].tolist()"
   ]
  },
  {
   "cell_type": "code",
   "execution_count": 7,
   "id": "69b8b4ce-b6fb-4f36-aea7-5c672a163578",
   "metadata": {},
   "outputs": [
    {
     "name": "stdout",
     "output_type": "stream",
     "text": [
      "4/6 Converted to datasets\n"
     ]
    }
   ],
   "source": [
    "\n",
    "# Save as dataset\n",
    "class NERDataset(torch.utils.data.Dataset):\n",
    "    def __init__(self, encodings, labels):\n",
    "        self.encodings = encodings\n",
    "        self.labels = labels\n",
    "\n",
    "    def __getitem__(self, idx):\n",
    "        item = {key: torch.tensor(val[idx]) for key, val in self.encodings.items()}\n",
    "        item[\"labels\"] = torch.tensor(self.labels[idx])\n",
    "        return item\n",
    "\n",
    "    def __len__(self):\n",
    "        return len(self.labels)\n",
    "\n",
    "train_dataset = NERDataset(train_encodings, train_labels)\n",
    "test_dataset = NERDataset(test_encodings, test_labels)\n",
    "print('4/6 Converted to datasets')"
   ]
  },
  {
   "cell_type": "code",
   "execution_count": 8,
   "id": "3c4d755f-f055-42eb-b877-d99c2680036b",
   "metadata": {},
   "outputs": [],
   "source": [
    "\n",
    "def compute_metrics(pred):\n",
    "    labels = pred.label_ids\n",
    "    preds = pred.predictions.argmax(-1)\n",
    "    return {\n",
    "        'accuracy': accuracy_score(labels, preds),\n",
    "        'f1': f1_score(labels, preds),\n",
    "        'precision': precision_score(labels, preds),\n",
    "        'recall': recall_score(labels, preds)\n",
    "    }\n"
   ]
  },
  {
   "cell_type": "code",
   "execution_count": 9,
   "id": "b837a776-77e7-4b99-ae40-2a6e836de47a",
   "metadata": {},
   "outputs": [
    {
     "name": "stdout",
     "output_type": "stream",
     "text": [
      "Training in progress\n",
      "Training best_model_run...\n"
     ]
    },
    {
     "name": "stderr",
     "output_type": "stream",
     "text": [
      "Some weights of BertForSequenceClassification were not initialized from the model checkpoint at bert-base-cased and are newly initialized: ['classifier.bias', 'classifier.weight']\n",
      "You should probably TRAIN this model on a down-stream task to be able to use it for predictions and inference.\n",
      "/home/matus/.conda/envs/matus_env/lib/python3.10/site-packages/transformers/training_args.py:1594: FutureWarning: `evaluation_strategy` is deprecated and will be removed in version 4.46 of 🤗 Transformers. Use `eval_strategy` instead\n",
      "  warnings.warn(\n",
      "Detected kernel version 4.18.0, which is below the recommended minimum of 5.5.0; this can cause the process to hang. It is recommended to upgrade the kernel to the minimum version or higher.\n"
     ]
    },
    {
     "data": {
      "text/html": [
       "\n",
       "    <div>\n",
       "      \n",
       "      <progress value='1292' max='1292' style='width:300px; height:20px; vertical-align: middle;'></progress>\n",
       "      [1292/1292 08:37, Epoch 2/2]\n",
       "    </div>\n",
       "    <table border=\"1\" class=\"dataframe\">\n",
       "  <thead>\n",
       " <tr style=\"text-align: left;\">\n",
       "      <th>Epoch</th>\n",
       "      <th>Training Loss</th>\n",
       "      <th>Validation Loss</th>\n",
       "      <th>Accuracy</th>\n",
       "      <th>F1</th>\n",
       "      <th>Precision</th>\n",
       "      <th>Recall</th>\n",
       "    </tr>\n",
       "  </thead>\n",
       "  <tbody>\n",
       "    <tr>\n",
       "      <td>1</td>\n",
       "      <td>0.576400</td>\n",
       "      <td>0.536991</td>\n",
       "      <td>0.698606</td>\n",
       "      <td>0.676030</td>\n",
       "      <td>0.620808</td>\n",
       "      <td>0.742035</td>\n",
       "    </tr>\n",
       "    <tr>\n",
       "      <td>2</td>\n",
       "      <td>0.488600</td>\n",
       "      <td>0.545317</td>\n",
       "      <td>0.705139</td>\n",
       "      <td>0.680208</td>\n",
       "      <td>0.629371</td>\n",
       "      <td>0.739979</td>\n",
       "    </tr>\n",
       "  </tbody>\n",
       "</table><p>"
      ],
      "text/plain": [
       "<IPython.core.display.HTML object>"
      ]
     },
     "metadata": {},
     "output_type": "display_data"
    },
    {
     "data": {
      "text/html": [
       "\n",
       "    <div>\n",
       "      \n",
       "      <progress value='72' max='72' style='width:300px; height:20px; vertical-align: middle;'></progress>\n",
       "      [72/72 00:05]\n",
       "    </div>\n",
       "    "
      ],
      "text/plain": [
       "<IPython.core.display.HTML object>"
      ]
     },
     "metadata": {},
     "output_type": "display_data"
    },
    {
     "name": "stdout",
     "output_type": "stream",
     "text": [
      "5/6 training done. Saving as csv\n",
      "6/6 saved as .csv\n"
     ]
    },
    {
     "data": {
      "text/plain": [
       "('./base_model_part2/tokenizer_config.json',\n",
       " './base_model_part2/special_tokens_map.json',\n",
       " './base_model_part2/vocab.txt',\n",
       " './base_model_part2/added_tokens.json',\n",
       " './base_model_part2/tokenizer.json')"
      ]
     },
     "execution_count": 9,
     "metadata": {},
     "output_type": "execute_result"
    }
   ],
   "source": [
    "\n",
    "# TRAIN\n",
    "print('Training in progress')\n",
    "\n",
    "all_results = []\n",
    "\n",
    "for config in experiment_configs:\n",
    "    print(f\"Training {config['name']}...\")\n",
    "\n",
    "    model = BertForSequenceClassification.from_pretrained(\"bert-base-cased\", num_labels=2)\n",
    "\n",
    "    #REMOVE THIS LINE SINCE THIS TIME NO XML TOKENS\n",
    "    #model.resize_token_embeddings(len(tokenizer))\n",
    "\n",
    "    training_args = TrainingArguments(\n",
    "        output_dir=f\"./results/{config['name']}\",\n",
    "        evaluation_strategy=\"epoch\",\n",
    "        logging_strategy=\"epoch\",\n",
    "        per_device_train_batch_size=config['batch_size'],\n",
    "        per_device_eval_batch_size=config['batch_size'],\n",
    "        num_train_epochs=config['epochs'],\n",
    "        learning_rate=config['lr'],\n",
    "        weight_decay=0.01,\n",
    "        logging_dir=f\"./logs/{config['name']}\",\n",
    "        save_strategy=\"epoch\",\n",
    "        report_to=\"none\",  # don't use wandb/huggingface\n",
    "        metric_for_best_model=\"f1\",        # 👈 Use F1 for early stopping\n",
    "        greater_is_better=True,            # 👈 Higher F1 = better\n",
    "        load_best_model_at_end=True,\n",
    "        fp16=False\n",
    "    )\n",
    "\n",
    "    trainer = Trainer(\n",
    "        model=model,\n",
    "        args=training_args,\n",
    "        train_dataset=train_dataset,\n",
    "        eval_dataset=test_dataset,\n",
    "        compute_metrics=compute_metrics,\n",
    "        callbacks=[EarlyStoppingCallback(early_stopping_patience=2)]\n",
    "    )\n",
    "\n",
    "    trainer.train()\n",
    "    eval_result = trainer.evaluate()\n",
    "\n",
    "    all_results.append({\n",
    "    \"name\": config[\"name\"],\n",
    "    \"epochs\": config[\"epochs\"],\n",
    "    \"batch_size\": config[\"batch_size\"],\n",
    "    \"lr\": config[\"lr\"],\n",
    "    \"accuracy\": eval_result.get(\"eval_accuracy\", None),\n",
    "    \"f1\": eval_result.get(\"eval_f1\", None),\n",
    "    \"precision\": eval_result.get(\"eval_precision\", None),\n",
    "    \"recall\": eval_result.get(\"eval_recall\", None),\n",
    "    \"best_f1\": trainer.state.best_metric,\n",
    "    \"final_epoch\": trainer.state.epoch,\n",
    "    \"best_checkpoint\": trainer.state.best_model_checkpoint,\n",
    "    \"best_step\": int(trainer.state.best_model_checkpoint.split(\"-\")[-1]) if trainer.state.best_model_checkpoint else None\n",
    "})\n",
    "\n",
    "\n",
    "\n",
    "print('5/6 training done. Saving as csv')\n",
    "\n",
    "results_df = pd.DataFrame(all_results)\n",
    "\n",
    "results_df.to_csv(\"COPY_bert_base_train.csv\", index=False)\n",
    "print('6/6 saved as .csv')\n",
    "\n",
    "\n",
    "trainer.save_model(\"./base_model_part2\")\n",
    "tokenizer.save_pretrained(\"./base_model_part2\")\n"
   ]
  },
  {
   "cell_type": "code",
   "execution_count": null,
   "id": "81084e18-4781-47dd-aabd-2121f6569330",
   "metadata": {},
   "outputs": [],
   "source": []
  },
  {
   "cell_type": "code",
   "execution_count": null,
   "id": "c6870032-48d6-4cfc-adad-24f656de6e78",
   "metadata": {},
   "outputs": [],
   "source": []
  },
  {
   "cell_type": "code",
   "execution_count": null,
   "id": "b66cb001-76e4-44e4-9348-ff20b8e9facf",
   "metadata": {},
   "outputs": [],
   "source": []
  },
  {
   "cell_type": "code",
   "execution_count": null,
   "id": "33a8cd55-4d6d-4697-aecc-db914e2970f1",
   "metadata": {},
   "outputs": [],
   "source": []
  },
  {
   "cell_type": "code",
   "execution_count": null,
   "id": "012fc752-74ae-484c-b769-d648b928892d",
   "metadata": {},
   "outputs": [],
   "source": []
  }
 ],
 "metadata": {
  "kernelspec": {
   "display_name": "Python 3 (ipykernel)",
   "language": "python",
   "name": "python3"
  },
  "language_info": {
   "codemirror_mode": {
    "name": "ipython",
    "version": 3
   },
   "file_extension": ".py",
   "mimetype": "text/x-python",
   "name": "python",
   "nbconvert_exporter": "python",
   "pygments_lexer": "ipython3",
   "version": "3.10.16"
  }
 },
 "nbformat": 4,
 "nbformat_minor": 5
}
