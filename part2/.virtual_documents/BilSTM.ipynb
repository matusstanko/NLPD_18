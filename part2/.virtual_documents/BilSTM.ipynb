print('matus')


import numpy


print("NumPy:", numpy.__version__)



