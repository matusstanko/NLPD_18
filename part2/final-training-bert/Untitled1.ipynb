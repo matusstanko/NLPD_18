{
 "cells": [
  {
   "cell_type": "code",
   "execution_count": 1,
   "id": "f66b64b9-532f-4d66-90c7-58400b984007",
   "metadata": {},
   "outputs": [],
   "source": [
    "import os, ast, torch, pandas as pd, numpy as np, matplotlib.pyplot as plt\n",
    "from tqdm.auto import tqdm\n",
    "from sklearn.metrics import (accuracy_score, f1_score, precision_score, recall_score,\n",
    "                             confusion_matrix, ConfusionMatrixDisplay,\n",
    "                             roc_curve, auc)\n",
    "from transformers import (BertTokenizerFast, BertForSequenceClassification,\n",
    "                          Trainer, TrainingArguments)"
   ]
  },
  {
   "cell_type": "code",
   "execution_count": 2,
   "id": "655dd83d-30dd-4b89-9c44-c180be505ebf",
   "metadata": {},
   "outputs": [],
   "source": [
    "tqdm.pandas()                       # krajšie progress bary\n",
    "os.environ[\"CUDA_VISIBLE_DEVICES\"] = \"\"   # Force CPU (zmaž, ak chceš GPU)\n",
    "device = torch.device(\"cpu\")\n",
    "\n",
    "CFG = dict(\n",
    "    name        = \"bert_xml_tags\",\n",
    "    epochs      = 7,\n",
    "    batch_size  = 16,\n",
    "    lr          = 3e-5,\n",
    "    data_dir    = \"/home/matus/NLPD_18/part1/outputs\"   # ← uprav len túto cestu\n",
    ")\n"
   ]
  },
  {
   "cell_type": "code",
   "execution_count": 3,
   "id": "0e9a9fd3-8366-4668-b536-c34995556724",
   "metadata": {},
   "outputs": [],
   "source": [
    "df_train  = pd.read_csv(f\"{CFG['data_dir']}/output_train.csv\")\n",
    "df_valid  = pd.read_csv(f\"{CFG['data_dir']}/output_valid.csv\")\n",
    "df_test   = pd.read_csv(f\"{CFG['data_dir']}/output_test.csv\")\n"
   ]
  },
  {
   "cell_type": "code",
   "execution_count": 4,
   "id": "28b1cce4-03d5-446e-a5bc-d3f92daf07cb",
   "metadata": {},
   "outputs": [],
   "source": [
    "df_train_full = pd.concat([df_train, df_valid], ignore_index=True)\\\n",
    "                  .sample(frac=1, random_state=42).reset_index(drop=True)\n"
   ]
  },
  {
   "cell_type": "code",
   "execution_count": 5,
   "id": "97b503fc-30fd-465e-bee4-e3d293a9faf6",
   "metadata": {},
   "outputs": [
    {
     "data": {
      "application/vnd.jupyter.widget-view+json": {
       "model_id": "cefcaba8a90e4604a08299be1d970a1d",
       "version_major": 2,
       "version_minor": 0
      },
      "text/plain": [
       "  0%|          | 0/20666 [00:00<?, ?it/s]"
      ]
     },
     "metadata": {},
     "output_type": "display_data"
    },
    {
     "data": {
      "application/vnd.jupyter.widget-view+json": {
       "model_id": "3a57af0be5f0427fa1dfb6baa929774e",
       "version_major": 2,
       "version_minor": 0
      },
      "text/plain": [
       "  0%|          | 0/2297 [00:00<?, ?it/s]"
      ]
     },
     "metadata": {},
     "output_type": "display_data"
    },
    {
     "data": {
      "application/vnd.jupyter.widget-view+json": {
       "model_id": "8a432df034ca4644abd28fffdfb0c531",
       "version_major": 2,
       "version_minor": 0
      },
      "text/plain": [
       "  0%|          | 0/2296 [00:00<?, ?it/s]"
      ]
     },
     "metadata": {},
     "output_type": "display_data"
    }
   ],
   "source": [
    "def merge_adjacent_entities(entities):\n",
    "    if not entities: return []\n",
    "    entities = sorted(entities, key=lambda x: x[\"start\"])\n",
    "    merged = [entities[0]]\n",
    "    for cur in entities[1:]:\n",
    "        last = merged[-1]\n",
    "        if cur[\"entity\"] == last[\"entity\"] and cur[\"start\"] <= last[\"end\"] + 1:\n",
    "            last[\"end\"] = cur[\"end\"]\n",
    "        else:\n",
    "            merged.append(cur)\n",
    "    return merged\n",
    "\n",
    "def insert_xml(text, entities):\n",
    "    if not entities: return text\n",
    "    if isinstance(entities, str):\n",
    "        try: entities = ast.literal_eval(entities)\n",
    "        except Exception: return text\n",
    "    merged = merge_adjacent_entities(entities)\n",
    "    merged.sort(key=lambda x: x[\"start\"])\n",
    "    offset = 0\n",
    "    for ent in merged:\n",
    "        tag = ent[\"entity\"].lower()\n",
    "        open_tag, close_tag = f\"<{tag}>\", f\"</{tag}>\"\n",
    "        s, e = ent[\"start\"] + offset, ent[\"end\"] + offset\n",
    "        text = text[:s] + open_tag + text[s:e] + close_tag + text[e:]\n",
    "        offset += len(open_tag) + len(close_tag)\n",
    "    return text\n",
    "\n",
    "for df in (df_train_full, df_valid, df_test):\n",
    "    df[\"xml_stmt\"] = df.progress_apply(\n",
    "        lambda r: insert_xml(r[\"statement\"], r[\"A_raw_entities\"]), axis=1\n",
    "    )"
   ]
  },
  {
   "cell_type": "code",
   "execution_count": 6,
   "id": "f7957047-089b-4955-9663-da5cf4b7cec7",
   "metadata": {},
   "outputs": [
    {
     "data": {
      "text/html": [
       "<div>\n",
       "<style scoped>\n",
       "    .dataframe tbody tr th:only-of-type {\n",
       "        vertical-align: middle;\n",
       "    }\n",
       "\n",
       "    .dataframe tbody tr th {\n",
       "        vertical-align: top;\n",
       "    }\n",
       "\n",
       "    .dataframe thead th {\n",
       "        text-align: right;\n",
       "    }\n",
       "</style>\n",
       "<table border=\"1\" class=\"dataframe\">\n",
       "  <thead>\n",
       "    <tr style=\"text-align: right;\">\n",
       "      <th></th>\n",
       "      <th>statement</th>\n",
       "      <th>label</th>\n",
       "      <th>label_binary</th>\n",
       "      <th>A_raw_entities</th>\n",
       "      <th>B_raw_entities</th>\n",
       "      <th>xml_stmt</th>\n",
       "    </tr>\n",
       "  </thead>\n",
       "  <tbody>\n",
       "    <tr>\n",
       "      <th>0</th>\n",
       "      <td>Three doctors from the same hospital 'die sudd...</td>\n",
       "      <td>1</td>\n",
       "      <td>0</td>\n",
       "      <td>[{'entity': 'MISC', 'score': 0.99962676, 'inde...</td>\n",
       "      <td>[{'word': 'Three', 'entity': 'CARDINAL'}, {'wo...</td>\n",
       "      <td>Three doctors from the same hospital 'die sudd...</td>\n",
       "    </tr>\n",
       "    <tr>\n",
       "      <th>1</th>\n",
       "      <td>Say Joe Biden is a pedophile.</td>\n",
       "      <td>0</td>\n",
       "      <td>0</td>\n",
       "      <td>[{'entity': 'PER', 'score': 0.9993856, 'index'...</td>\n",
       "      <td>[{'word': 'Joe Biden', 'entity': 'PERSON'}]</td>\n",
       "      <td>Say &lt;per&gt;Joe Biden&lt;/per&gt; is a pedophile.</td>\n",
       "    </tr>\n",
       "    <tr>\n",
       "      <th>2</th>\n",
       "      <td>A photo shows President Joe Biden and Ukrainia...</td>\n",
       "      <td>1</td>\n",
       "      <td>0</td>\n",
       "      <td>[{'entity': 'PER', 'score': 0.9996147, 'index'...</td>\n",
       "      <td>[{'word': 'Joe Biden', 'entity': 'PERSON'}, {'...</td>\n",
       "      <td>A photo shows President &lt;per&gt;Joe Biden&lt;/per&gt; a...</td>\n",
       "    </tr>\n",
       "    <tr>\n",
       "      <th>3</th>\n",
       "      <td>It will cost $50,000 per enrollee in Obamacare...</td>\n",
       "      <td>1</td>\n",
       "      <td>0</td>\n",
       "      <td>[{'entity': 'MISC', 'score': 0.99520916, 'inde...</td>\n",
       "      <td>[{'word': '50,000', 'entity': 'MONEY'}, {'word...</td>\n",
       "      <td>It will cost $50,000 per enrollee in &lt;misc&gt;Oba...</td>\n",
       "    </tr>\n",
       "    <tr>\n",
       "      <th>4</th>\n",
       "      <td>The Federal Register - which houses all Washin...</td>\n",
       "      <td>3</td>\n",
       "      <td>1</td>\n",
       "      <td>[{'entity': 'ORG', 'score': 0.6887246, 'index'...</td>\n",
       "      <td>[{'word': 'The Federal Register - which', 'ent...</td>\n",
       "      <td>The &lt;org&gt;Federal Register&lt;/org&gt; - which houses...</td>\n",
       "    </tr>\n",
       "    <tr>\n",
       "      <th>...</th>\n",
       "      <td>...</td>\n",
       "      <td>...</td>\n",
       "      <td>...</td>\n",
       "      <td>...</td>\n",
       "      <td>...</td>\n",
       "      <td>...</td>\n",
       "    </tr>\n",
       "    <tr>\n",
       "      <th>2291</th>\n",
       "      <td>Says \"Rosie O'Donnell apparently committed the...</td>\n",
       "      <td>1</td>\n",
       "      <td>0</td>\n",
       "      <td>[{'entity': 'PER', 'score': 0.99957937, 'index...</td>\n",
       "      <td>[{'word': \"Rosie O'Donnell\", 'entity': 'PERSON...</td>\n",
       "      <td>Says \"&lt;per&gt;Rosie O'Donnell&lt;/per&gt; apparently co...</td>\n",
       "    </tr>\n",
       "    <tr>\n",
       "      <th>2292</th>\n",
       "      <td>An image shows \"Ukrainian soldiers praying.</td>\n",
       "      <td>1</td>\n",
       "      <td>0</td>\n",
       "      <td>[{'entity': 'MISC', 'score': 0.999556, 'index'...</td>\n",
       "      <td>[{'word': 'Ukrainian', 'entity': 'NORP'}]</td>\n",
       "      <td>An image shows \"&lt;misc&gt;Ukrainian&lt;/misc&gt; soldier...</td>\n",
       "    </tr>\n",
       "    <tr>\n",
       "      <th>2293</th>\n",
       "      <td>Since 1938 the minimum wage has been increased...</td>\n",
       "      <td>4</td>\n",
       "      <td>1</td>\n",
       "      <td>[{'entity': 'MISC', 'score': 0.9998487, 'index...</td>\n",
       "      <td>[{'word': '1938', 'entity': 'DATE'}, {'word': ...</td>\n",
       "      <td>Since 1938 the minimum wage has been increased...</td>\n",
       "    </tr>\n",
       "    <tr>\n",
       "      <th>2294</th>\n",
       "      <td>Says Wisconsin Supreme Court Justice David Pro...</td>\n",
       "      <td>2</td>\n",
       "      <td>0</td>\n",
       "      <td>[{'entity': 'ORG', 'score': 0.7034567, 'index'...</td>\n",
       "      <td>[{'word': 'Wisconsin Supreme Court', 'entity':...</td>\n",
       "      <td>Says &lt;org&gt;Wisconsin Supreme Court&lt;/org&gt; Justic...</td>\n",
       "    </tr>\n",
       "    <tr>\n",
       "      <th>2295</th>\n",
       "      <td>Quotes Rep. Kevin McCarthy as saying \"there ar...</td>\n",
       "      <td>0</td>\n",
       "      <td>0</td>\n",
       "      <td>[{'entity': 'PER', 'score': 0.99956554, 'index...</td>\n",
       "      <td>[{'word': 'Quotes', 'entity': 'ORG'}, {'word':...</td>\n",
       "      <td>Quotes Rep. &lt;per&gt;Kevin McCarthy&lt;/per&gt; as sayin...</td>\n",
       "    </tr>\n",
       "  </tbody>\n",
       "</table>\n",
       "<p>2296 rows × 6 columns</p>\n",
       "</div>"
      ],
      "text/plain": [
       "                                              statement  label  label_binary  \\\n",
       "0     Three doctors from the same hospital 'die sudd...      1             0   \n",
       "1                         Say Joe Biden is a pedophile.      0             0   \n",
       "2     A photo shows President Joe Biden and Ukrainia...      1             0   \n",
       "3     It will cost $50,000 per enrollee in Obamacare...      1             0   \n",
       "4     The Federal Register - which houses all Washin...      3             1   \n",
       "...                                                 ...    ...           ...   \n",
       "2291  Says \"Rosie O'Donnell apparently committed the...      1             0   \n",
       "2292        An image shows \"Ukrainian soldiers praying.      1             0   \n",
       "2293  Since 1938 the minimum wage has been increased...      4             1   \n",
       "2294  Says Wisconsin Supreme Court Justice David Pro...      2             0   \n",
       "2295  Quotes Rep. Kevin McCarthy as saying \"there ar...      0             0   \n",
       "\n",
       "                                         A_raw_entities  \\\n",
       "0     [{'entity': 'MISC', 'score': 0.99962676, 'inde...   \n",
       "1     [{'entity': 'PER', 'score': 0.9993856, 'index'...   \n",
       "2     [{'entity': 'PER', 'score': 0.9996147, 'index'...   \n",
       "3     [{'entity': 'MISC', 'score': 0.99520916, 'inde...   \n",
       "4     [{'entity': 'ORG', 'score': 0.6887246, 'index'...   \n",
       "...                                                 ...   \n",
       "2291  [{'entity': 'PER', 'score': 0.99957937, 'index...   \n",
       "2292  [{'entity': 'MISC', 'score': 0.999556, 'index'...   \n",
       "2293  [{'entity': 'MISC', 'score': 0.9998487, 'index...   \n",
       "2294  [{'entity': 'ORG', 'score': 0.7034567, 'index'...   \n",
       "2295  [{'entity': 'PER', 'score': 0.99956554, 'index...   \n",
       "\n",
       "                                         B_raw_entities  \\\n",
       "0     [{'word': 'Three', 'entity': 'CARDINAL'}, {'wo...   \n",
       "1           [{'word': 'Joe Biden', 'entity': 'PERSON'}]   \n",
       "2     [{'word': 'Joe Biden', 'entity': 'PERSON'}, {'...   \n",
       "3     [{'word': '50,000', 'entity': 'MONEY'}, {'word...   \n",
       "4     [{'word': 'The Federal Register - which', 'ent...   \n",
       "...                                                 ...   \n",
       "2291  [{'word': \"Rosie O'Donnell\", 'entity': 'PERSON...   \n",
       "2292          [{'word': 'Ukrainian', 'entity': 'NORP'}]   \n",
       "2293  [{'word': '1938', 'entity': 'DATE'}, {'word': ...   \n",
       "2294  [{'word': 'Wisconsin Supreme Court', 'entity':...   \n",
       "2295  [{'word': 'Quotes', 'entity': 'ORG'}, {'word':...   \n",
       "\n",
       "                                               xml_stmt  \n",
       "0     Three doctors from the same hospital 'die sudd...  \n",
       "1              Say <per>Joe Biden</per> is a pedophile.  \n",
       "2     A photo shows President <per>Joe Biden</per> a...  \n",
       "3     It will cost $50,000 per enrollee in <misc>Oba...  \n",
       "4     The <org>Federal Register</org> - which houses...  \n",
       "...                                                 ...  \n",
       "2291  Says \"<per>Rosie O'Donnell</per> apparently co...  \n",
       "2292  An image shows \"<misc>Ukrainian</misc> soldier...  \n",
       "2293  Since 1938 the minimum wage has been increased...  \n",
       "2294  Says <org>Wisconsin Supreme Court</org> Justic...  \n",
       "2295  Quotes Rep. <per>Kevin McCarthy</per> as sayin...  \n",
       "\n",
       "[2296 rows x 6 columns]"
      ]
     },
     "execution_count": 6,
     "metadata": {},
     "output_type": "execute_result"
    }
   ],
   "source": [
    "df"
   ]
  },
  {
   "cell_type": "code",
   "execution_count": 7,
   "id": "a122cc2a-7119-4d69-be58-fd67bbe52a45",
   "metadata": {},
   "outputs": [],
   "source": [
    "tok = BertTokenizerFast.from_pretrained(\"bert-base-uncased\")\n",
    "special = ['<per>', '</per>', '<org>', '</org>', '<loc>', '</loc>', '<misc>', '</misc>']\n",
    "tok.add_special_tokens({'additional_special_tokens': special})\n",
    "\n",
    "def encode(texts): return tok(texts, truncation=True, padding=True)\n",
    "\n",
    "enc_train = encode(df_train_full[\"xml_stmt\"].tolist())\n",
    "enc_valid = encode(df_valid[\"xml_stmt\"].tolist())\n",
    "enc_test  = encode(df_test [\"xml_stmt\"].tolist())\n"
   ]
  },
  {
   "cell_type": "code",
   "execution_count": 8,
   "id": "ed2cd6de-b6ac-4d75-8da9-925f9c833788",
   "metadata": {},
   "outputs": [],
   "source": [
    "class ClsDataset(torch.utils.data.Dataset):\n",
    "    def __init__(self, enc, labels):\n",
    "        self.enc, self.labels = enc, labels\n",
    "    def __getitem__(self, idx):\n",
    "        item = {k: torch.tensor(v[idx]) for k, v in self.enc.items()}\n",
    "        item[\"labels\"] = torch.tensor(self.labels[idx])\n",
    "        return item\n",
    "    def __len__(self): return len(self.labels)\n",
    "\n",
    "ds_train = ClsDataset(enc_train, df_train_full[\"label_binary\"].tolist())\n",
    "ds_valid = ClsDataset(enc_valid, df_valid[\"label_binary\"].tolist())\n",
    "ds_test  = ClsDataset(enc_test , df_test [\"label_binary\"].tolist())\n"
   ]
  },
  {
   "cell_type": "code",
   "execution_count": 9,
   "id": "2f400b90-7ea5-4d2e-b5ce-73c7030f4fcc",
   "metadata": {},
   "outputs": [],
   "source": [
    "def metrics(pred):\n",
    "    lab, pr = pred.label_ids, pred.predictions.argmax(-1)\n",
    "    return dict(\n",
    "        accuracy  = accuracy_score (lab, pr),\n",
    "        f1        = f1_score       (lab, pr, zero_division=0),\n",
    "        precision = precision_score(lab, pr, zero_division=0),\n",
    "        recall    = recall_score   (lab, pr, zero_division=0)\n",
    "    )\n"
   ]
  },
  {
   "cell_type": "code",
   "execution_count": null,
   "id": "2e699def-ce4f-4e63-a8a6-21a555059630",
   "metadata": {},
   "outputs": [],
   "source": []
  }
 ],
 "metadata": {
  "kernelspec": {
   "display_name": "Python 3 (ipykernel)",
   "language": "python",
   "name": "python3"
  },
  "language_info": {
   "codemirror_mode": {
    "name": "ipython",
    "version": 3
   },
   "file_extension": ".py",
   "mimetype": "text/x-python",
   "name": "python",
   "nbconvert_exporter": "python",
   "pygments_lexer": "ipython3",
   "version": "3.11.7"
  }
 },
 "nbformat": 4,
 "nbformat_minor": 5
}
