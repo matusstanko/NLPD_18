{
 "cells": [
  {
   "cell_type": "code",
   "execution_count": 24,
   "id": "ef724df3-627b-45a5-9677-627f5af265a7",
   "metadata": {},
   "outputs": [
    {
     "name": "stderr",
     "output_type": "stream",
     "text": [
      "[nltk_data] Downloading package punkt to /home/matus/nltk_data...\n",
      "[nltk_data]   Package punkt is already up-to-date!\n",
      "[nltk_data] Downloading package punkt_tab to /home/matus/nltk_data...\n",
      "[nltk_data]   Unzipping tokenizers/punkt_tab.zip.\n"
     ]
    },
    {
     "name": "stdout",
     "output_type": "stream",
     "text": [
      "✅ Libraries loaded.\n"
     ]
    }
   ],
   "source": [
    "import pandas as pd\n",
    "import numpy as np\n",
    "import torch\n",
    "import torch.nn as nn\n",
    "from torch.utils.data import Dataset, DataLoader\n",
    "from torch.nn.utils.rnn import pad_sequence\n",
    "from sklearn.metrics import accuracy_score, f1_score, precision_score, recall_score\n",
    "from nltk.tokenize import word_tokenize\n",
    "from collections import Counter\n",
    "from tqdm import tqdm\n",
    "import ast\n",
    "import nltk\n",
    "nltk.download('punkt')\n",
    "nltk.download('punkt_tab')\n",
    "print(\"✅ Libraries loaded.\")"
   ]
  },
  {
   "cell_type": "code",
   "execution_count": 25,
   "id": "93750b1a-21fe-41b7-b6bf-58abf16ab4f3",
   "metadata": {},
   "outputs": [
    {
     "name": "stdout",
     "output_type": "stream",
     "text": [
      "✅ Train shape: (18369, 5), Valid shape: (2297, 4)\n"
     ]
    }
   ],
   "source": [
    "# Load CSVs\n",
    "df_train = pd.read_csv('/home/matus/NLPD_18/part1/outputs/output_train.csv')\n",
    "df_valid = pd.read_csv('/home/matus/NLPD_18/part1/outputs/output_valid.csv')\n",
    "print(f\"✅ Train shape: {df_train.shape}, Valid shape: {df_valid.shape}\")"
   ]
  },
  {
   "cell_type": "code",
   "execution_count": 26,
   "id": "542dce8b-6910-4827-a167-1d194f22998a",
   "metadata": {},
   "outputs": [
    {
     "name": "stderr",
     "output_type": "stream",
     "text": [
      "100%|███████████████████████████████████| 18369/18369 [00:01<00:00, 9842.39it/s]\n",
      "100%|█████████████████████████████████████| 2297/2297 [00:00<00:00, 9663.83it/s]"
     ]
    },
    {
     "name": "stdout",
     "output_type": "stream",
     "text": [
      "✅ XML tags added to train & valid\n"
     ]
    },
    {
     "name": "stderr",
     "output_type": "stream",
     "text": [
      "\n"
     ]
    }
   ],
   "source": [
    "# Functions for XML tagging (same as before)\n",
    "def merge_adjacent_entities(entities):\n",
    "    if not entities:\n",
    "        return []\n",
    "    entities = sorted(entities, key=lambda x: x['start'])\n",
    "    merged = [entities[0]]\n",
    "    for current in entities[1:]:\n",
    "        last = merged[-1]\n",
    "        if current['entity'] == last['entity'] and current['start'] <= last['end'] + 1:\n",
    "            last['end'] = current['end']\n",
    "        else:\n",
    "            merged.append(current)\n",
    "    return merged\n",
    "\n",
    "def insert_xml_tags(text, entities):\n",
    "    if not entities:\n",
    "        return text\n",
    "    if isinstance(entities, str):\n",
    "        try:\n",
    "            entities = ast.literal_eval(entities)\n",
    "        except:\n",
    "            return text\n",
    "    entities = merge_adjacent_entities(entities)\n",
    "    entities.sort(key=lambda x: x['start'])\n",
    "    offset = 0\n",
    "    for ent in entities:\n",
    "        open_tag = f\"<{ent['entity']}>\"\n",
    "        close_tag = f\"</{ent['entity']}>\"\n",
    "        start = ent['start'] + offset\n",
    "        end = ent['end'] + offset\n",
    "        text = text[:start] + open_tag + text[start:end] + close_tag + text[end:]\n",
    "        offset += len(open_tag) + len(close_tag)\n",
    "    return text\n",
    "\n",
    "# Apply XML insertion\n",
    "tqdm.pandas()\n",
    "df_train['A_XML_statement'] = df_train.progress_apply(\n",
    "    lambda row: insert_xml_tags(row['statement'], row['A_raw_entities']), axis=1)\n",
    "df_valid['A_XML_statement'] = df_valid.progress_apply(\n",
    "    lambda row: insert_xml_tags(row['statement'], row['A_raw_entities']), axis=1)\n",
    "\n",
    "print(\"✅ XML tags added to train & valid\")"
   ]
  },
  {
   "cell_type": "code",
   "execution_count": 27,
   "id": "17333279-2994-4404-a9cd-10b780a1ec59",
   "metadata": {},
   "outputs": [
    {
     "data": {
      "text/html": [
       "<div>\n",
       "<style scoped>\n",
       "    .dataframe tbody tr th:only-of-type {\n",
       "        vertical-align: middle;\n",
       "    }\n",
       "\n",
       "    .dataframe tbody tr th {\n",
       "        vertical-align: top;\n",
       "    }\n",
       "\n",
       "    .dataframe thead th {\n",
       "        text-align: right;\n",
       "    }\n",
       "</style>\n",
       "<table border=\"1\" class=\"dataframe\">\n",
       "  <thead>\n",
       "    <tr style=\"text-align: right;\">\n",
       "      <th></th>\n",
       "      <th>statement</th>\n",
       "      <th>label</th>\n",
       "      <th>label_binary</th>\n",
       "      <th>A_raw_entities</th>\n",
       "      <th>B_raw_entities</th>\n",
       "      <th>A_XML_statement</th>\n",
       "    </tr>\n",
       "  </thead>\n",
       "  <tbody>\n",
       "    <tr>\n",
       "      <th>0</th>\n",
       "      <td>90 percent of Americans \"support universal bac...</td>\n",
       "      <td>5</td>\n",
       "      <td>1</td>\n",
       "      <td>[{'entity': 'MISC', 'score': 0.99866974, 'inde...</td>\n",
       "      <td>[{'word': '90 percent', 'entity': 'PERCENT'}, ...</td>\n",
       "      <td>90 percent of &lt;MISC&gt;Americans&lt;/MISC&gt; \"support ...</td>\n",
       "    </tr>\n",
       "    <tr>\n",
       "      <th>1</th>\n",
       "      <td>Last year was one of the deadliest years ever ...</td>\n",
       "      <td>1</td>\n",
       "      <td>0</td>\n",
       "      <td>[]</td>\n",
       "      <td>[{'word': 'Last year', 'entity': 'DATE'}, {'wo...</td>\n",
       "      <td>Last year was one of the deadliest years ever ...</td>\n",
       "    </tr>\n",
       "    <tr>\n",
       "      <th>2</th>\n",
       "      <td>Bernie Sanders's plan is \"to raise your taxes ...</td>\n",
       "      <td>0</td>\n",
       "      <td>0</td>\n",
       "      <td>[{'entity': 'PER', 'score': 0.9983652, 'index'...</td>\n",
       "      <td>[{'word': \"Bernie Sanders's\", 'entity': 'PERSO...</td>\n",
       "      <td>&lt;PER&gt;Bernie Sanders&lt;/PER&gt;'s plan is \"to raise ...</td>\n",
       "    </tr>\n",
       "  </tbody>\n",
       "</table>\n",
       "</div>"
      ],
      "text/plain": [
       "                                           statement  label  label_binary  \\\n",
       "0  90 percent of Americans \"support universal bac...      5             1   \n",
       "1  Last year was one of the deadliest years ever ...      1             0   \n",
       "2  Bernie Sanders's plan is \"to raise your taxes ...      0             0   \n",
       "\n",
       "                                      A_raw_entities  \\\n",
       "0  [{'entity': 'MISC', 'score': 0.99866974, 'inde...   \n",
       "1                                                 []   \n",
       "2  [{'entity': 'PER', 'score': 0.9983652, 'index'...   \n",
       "\n",
       "                                      B_raw_entities  \\\n",
       "0  [{'word': '90 percent', 'entity': 'PERCENT'}, ...   \n",
       "1  [{'word': 'Last year', 'entity': 'DATE'}, {'wo...   \n",
       "2  [{'word': \"Bernie Sanders's\", 'entity': 'PERSO...   \n",
       "\n",
       "                                     A_XML_statement  \n",
       "0  90 percent of <MISC>Americans</MISC> \"support ...  \n",
       "1  Last year was one of the deadliest years ever ...  \n",
       "2  <PER>Bernie Sanders</PER>'s plan is \"to raise ...  "
      ]
     },
     "execution_count": 27,
     "metadata": {},
     "output_type": "execute_result"
    }
   ],
   "source": [
    "df_train.head(3)"
   ]
  },
  {
   "cell_type": "code",
   "execution_count": 28,
   "id": "81d1db4b-7a75-4099-9168-4dd893fa220e",
   "metadata": {},
   "outputs": [
    {
     "name": "stdout",
     "output_type": "stream",
     "text": [
      "✅ Vocabulary size: 22429\n",
      "✅ Tokens encoded\n"
     ]
    }
   ],
   "source": [
    "# Tokenize XML-tagged sentences\n",
    "df_train['tokens'] = df_train['A_XML_statement'].apply(word_tokenize)\n",
    "df_valid['tokens'] = df_valid['A_XML_statement'].apply(word_tokenize)\n",
    "\n",
    "# Build vocabulary from training tokens\n",
    "all_tokens = [token for sentence in df_train['tokens'] for token in sentence]\n",
    "vocab = {'<PAD>': 0, '<UNK>': 1}\n",
    "vocab.update({word: idx + 2 for idx, word in enumerate(Counter(all_tokens))})\n",
    "\n",
    "print(f\"✅ Vocabulary size: {len(vocab)}\")\n",
    "\n",
    "# Convert tokens to indices\n",
    "def encode(tokens, vocab):\n",
    "    return [vocab.get(token, vocab['<UNK>']) for token in tokens]\n",
    "\n",
    "df_train['input_ids'] = df_train['tokens'].apply(lambda x: encode(x, vocab))\n",
    "df_valid['input_ids'] = df_valid['tokens'].apply(lambda x: encode(x, vocab))\n",
    "print(\"✅ Tokens encoded\")"
   ]
  },
  {
   "cell_type": "code",
   "execution_count": 29,
   "id": "7cb0bbbd-bd4b-4044-9a6c-ad253377160c",
   "metadata": {},
   "outputs": [
    {
     "name": "stdout",
     "output_type": "stream",
     "text": [
      "✅ DataLoaders ready\n"
     ]
    }
   ],
   "source": [
    "class SimpleDataset(Dataset):\n",
    "    def __init__(self, input_ids, labels):\n",
    "        self.data = list(zip(input_ids, labels))\n",
    "\n",
    "    def __len__(self):\n",
    "        return len(self.data)\n",
    "\n",
    "    def __getitem__(self, idx):\n",
    "        return self.data[idx]\n",
    "\n",
    "def collate_fn(batch):\n",
    "    input_ids, labels = zip(*batch)\n",
    "    padded = pad_sequence([torch.tensor(x) for x in input_ids], batch_first=True, padding_value=0)\n",
    "    return padded, torch.tensor(labels)\n",
    "\n",
    "# Wrap your data\n",
    "train_dataset = SimpleDataset(df_train['input_ids'].tolist(), df_train['label_binary'].tolist())\n",
    "valid_dataset = SimpleDataset(df_valid['input_ids'].tolist(), df_valid['label_binary'].tolist())\n",
    "\n",
    "train_loader = DataLoader(train_dataset, batch_size=32, shuffle=True, collate_fn=collate_fn)\n",
    "valid_loader = DataLoader(valid_dataset, batch_size=32, shuffle=False, collate_fn=collate_fn)\n",
    "\n",
    "print(\"✅ DataLoaders ready\")"
   ]
  },
  {
   "cell_type": "code",
   "execution_count": 30,
   "id": "c307e8d6-1760-489e-b032-86545f2facfe",
   "metadata": {},
   "outputs": [],
   "source": [
    "class BiLSTMClassifier(nn.Module):\n",
    "    def __init__(self, vocab_size, embedding_dim=100, hidden_dim=128, num_classes=2, dropout=0.3):\n",
    "        super(BiLSTMClassifier, self).__init__()\n",
    "        self.embedding = nn.Embedding(vocab_size, embedding_dim, padding_idx=0)\n",
    "        self.lstm = nn.LSTM(embedding_dim, hidden_dim, batch_first=True, bidirectional=True)\n",
    "        self.dropout = nn.Dropout(dropout)\n",
    "        self.fc = nn.Linear(hidden_dim * 2, num_classes)\n",
    "\n",
    "    def forward(self, x):\n",
    "        x = self.embedding(x)\n",
    "        lstm_out, _ = self.lstm(x)\n",
    "        out = lstm_out[:, -1, :]  # last timestep\n",
    "        out = self.dropout(out)\n",
    "        return self.fc(out)"
   ]
  },
  {
   "cell_type": "code",
   "execution_count": 31,
   "id": "3f215617-7ec0-42ff-8a1d-ccb0d60b2298",
   "metadata": {},
   "outputs": [],
   "source": [
    "def train_model(model, train_loader, valid_loader, epochs, lr, device):\n",
    "    model.to(device)\n",
    "    optimizer = torch.optim.Adam(model.parameters(), lr=lr)\n",
    "    loss_fn = nn.CrossEntropyLoss()\n",
    "\n",
    "    for epoch in range(epochs):\n",
    "        model.train()\n",
    "        total_loss = 0\n",
    "        for inputs, labels in train_loader:\n",
    "            inputs, labels = inputs.to(device), labels.to(device)\n",
    "            optimizer.zero_grad()\n",
    "            outputs = model(inputs)\n",
    "            loss = loss_fn(outputs, labels)\n",
    "            loss.backward()\n",
    "            optimizer.step()\n",
    "            total_loss += loss.item()\n",
    "        print(f\"Epoch {epoch+1}/{epochs} - Train Loss: {total_loss:.4f}\")\n",
    "\n",
    "        # Evaluate\n",
    "        model.eval()\n",
    "        all_preds, all_labels = [], []\n",
    "        with torch.no_grad():\n",
    "            for inputs, labels in valid_loader:\n",
    "                inputs = inputs.to(device)\n",
    "                outputs = model(inputs)\n",
    "                preds = torch.argmax(outputs, dim=1).cpu().numpy()\n",
    "                all_preds.extend(preds)\n",
    "                all_labels.extend(labels.numpy())\n",
    "\n",
    "        f1 = f1_score(all_labels, all_preds)\n",
    "        acc = accuracy_score(all_labels, all_preds)\n",
    "        print(f\"🧪 Val Accuracy: {acc:.4f} | F1: {f1:.4f}\\n\")"
   ]
  },
  {
   "cell_type": "code",
   "execution_count": 32,
   "id": "fe7fe8a0-07ec-42d5-9913-b5b5379272d6",
   "metadata": {},
   "outputs": [
    {
     "name": "stdout",
     "output_type": "stream",
     "text": [
      "🔧 Using device: cuda\n",
      "Epoch 1/5 - Train Loss: 392.4401\n",
      "🧪 Val Accuracy: 0.5729 | F1: 0.0448\n",
      "\n",
      "Epoch 2/5 - Train Loss: 391.7640\n",
      "🧪 Val Accuracy: 0.5768 | F1: 0.0162\n",
      "\n",
      "Epoch 3/5 - Train Loss: 391.8575\n",
      "🧪 Val Accuracy: 0.5751 | F1: 0.0121\n",
      "\n",
      "Epoch 4/5 - Train Loss: 391.1723\n",
      "🧪 Val Accuracy: 0.5777 | F1: 0.0415\n",
      "\n",
      "Epoch 5/5 - Train Loss: 390.8510\n",
      "🧪 Val Accuracy: 0.5773 | F1: 0.0377\n",
      "\n"
     ]
    }
   ],
   "source": [
    "# Device setup\n",
    "device = torch.device(\"cuda\" if torch.cuda.is_available() else \"cpu\")\n",
    "print(f\"🔧 Using device: {device}\")\n",
    "\n",
    "# Initialize the model\n",
    "model = BiLSTMClassifier(\n",
    "    vocab_size=len(vocab),\n",
    "    embedding_dim=100,\n",
    "    hidden_dim=128,\n",
    "    num_classes=2,\n",
    "    dropout=0.3\n",
    ")\n",
    "\n",
    "# Train it!\n",
    "train_model(\n",
    "    model=model,\n",
    "    train_loader=train_loader,\n",
    "    valid_loader=valid_loader,\n",
    "    epochs=5,\n",
    "    lr=1e-3,\n",
    "    device=device\n",
    ")"
   ]
  },
  {
   "cell_type": "code",
   "execution_count": null,
   "id": "8a6493fd-fbcd-4c4d-b759-7ad4f9d54032",
   "metadata": {},
   "outputs": [],
   "source": []
  }
 ],
 "metadata": {
  "kernelspec": {
   "display_name": "Python 3 (ipykernel)",
   "language": "python",
   "name": "python3"
  },
  "language_info": {
   "codemirror_mode": {
    "name": "ipython",
    "version": 3
   },
   "file_extension": ".py",
   "mimetype": "text/x-python",
   "name": "python",
   "nbconvert_exporter": "python",
   "pygments_lexer": "ipython3",
   "version": "3.10.16"
  }
 },
 "nbformat": 4,
 "nbformat_minor": 5
}
