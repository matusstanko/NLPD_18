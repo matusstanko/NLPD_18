{
 "cells": [
  {
   "cell_type": "code",
   "execution_count": 2,
   "id": "dc2b62f0-817a-4807-80f6-804f2d8bc0e2",
   "metadata": {},
   "outputs": [
    {
     "name": "stdout",
     "output_type": "stream",
     "text": [
      "1/6 libraries loaded\n"
     ]
    }
   ],
   "source": [
    "# Import libraries\n",
    "import pandas as pd\n",
    "import numpy as np\n",
    "import ast\n",
    "from tqdm import tqdm\n",
    "from sklearn.model_selection import train_test_split\n",
    "from sklearn.metrics import accuracy_score, f1_score, precision_score, recall_score\n",
    "from transformers import BertTokenizerFast, BertForSequenceClassification\n",
    "from transformers import Trainer, TrainingArguments\n",
    "from transformers import EarlyStoppingCallback\n",
    "import torch\n",
    "print('1/6 libraries loaded')"
   ]
  },
  {
   "cell_type": "code",
   "execution_count": 3,
   "id": "ccb94215-5b43-499f-9c44-795f5611d3dc",
   "metadata": {},
   "outputs": [],
   "source": [
    "# Choose parameters for BERT \n",
    "# These were decided from gridsearch training\n",
    "\n",
    "experiment_configs = [{\n",
    "    \"name\": \"best_model_run\",\n",
    "    \"epochs\": 2,\n",
    "    \"batch_size\": 32,\n",
    "    \"lr\": 2e-5\n",
    "}]"
   ]
  },
  {
   "cell_type": "code",
   "execution_count": 4,
   "id": "60106188-e27c-4829-99e7-ea109b4ce600",
   "metadata": {},
   "outputs": [
    {
     "name": "stdout",
     "output_type": "stream",
     "text": [
      "2/6 data loaded\n"
     ]
    }
   ],
   "source": [
    "\n",
    "# Load train, valid and test data\n",
    "df_train = pd.read_csv('/home/matus/NLPD_18/part1/outputs/output_train.csv')\n",
    "df_valid = pd.read_csv('/home/matus/NLPD_18/part1/outputs/output_valid.csv')\n",
    "df_test = pd.read_csv('/home/matus/NLPD_18/part1/outputs/output_test.csv')\n",
    "print('2/6 data loaded')"
   ]
  },
  {
   "cell_type": "code",
   "execution_count": 5,
   "id": "54a8d5ee-adc8-4123-ae17-621446ac7a20",
   "metadata": {},
   "outputs": [],
   "source": [
    "# Join train+validation data and shuffle \n",
    "df_train_merged = pd.concat([df_train, df_valid], ignore_index=True)\n",
    "df_train_merged = df_train_merged.sample(frac=1, random_state=42).reset_index(drop=True)"
   ]
  },
  {
   "cell_type": "code",
   "execution_count": 6,
   "id": "0ab18649-0322-46ac-b4a2-10e2bb137c5b",
   "metadata": {},
   "outputs": [],
   "source": [
    "\n",
    "# Functions to extract and insert XML tags (entities) into statement text\n",
    "def merge_adjacent_entities(entities):\n",
    "    if not entities:\n",
    "        return []\n",
    "\n",
    "    # Sort entities by start position\n",
    "    entities = sorted(entities, key=lambda x: x['start'])\n",
    "    merged = [entities[0]]\n",
    "\n",
    "    for current in entities[1:]:\n",
    "        last = merged[-1]\n",
    "\n",
    "        # Merge adjacent entities of the same type\n",
    "        if current['entity'] == last['entity'] and current['start'] <= last['end'] + 1:\n",
    "            last['end'] = current['end']\n",
    "        else:\n",
    "            merged.append(current)\n",
    "\n",
    "    return merged\n",
    "def insert_xml_tags(text, entities):\n",
    "    if not entities:\n",
    "        return text\n",
    "\n",
    "    # If entities are a string, try to evaluate it\n",
    "    if isinstance(entities, str):\n",
    "        try:\n",
    "            entities = ast.literal_eval(entities)\n",
    "        except (ValueError, SyntaxError) as e:\n",
    "            print(f\"Error parsing entities: {entities} - {e}\")\n",
    "            return text  # Skip this row or handle it differently\n",
    "\n",
    "    # Merge adjacent entities\n",
    "    merged_entities = merge_adjacent_entities(entities)\n",
    "    \n",
    "    # Sort entities by their start position\n",
    "    merged_entities.sort(key=lambda x: x['start'])\n",
    "\n",
    "    offset = 0\n",
    "    for ent in merged_entities:\n",
    "        ent_type = ent['entity']\n",
    "        start = ent['start'] + offset\n",
    "        end = ent['end'] + offset\n",
    "\n",
    "        open_tag = f\"<{ent_type}>\"\n",
    "        close_tag = f\"</{ent_type}>\"\n",
    "\n",
    "        text = text[:start] + open_tag + text[start:end] + close_tag + text[end:]\n",
    "        offset += len(open_tag) + len(close_tag)\n",
    "\n",
    "    return text\n"
   ]
  },
  {
   "cell_type": "code",
   "execution_count": 7,
   "id": "93d9800f-d527-4787-a0e4-aae70451a16a",
   "metadata": {},
   "outputs": [
    {
     "name": "stderr",
     "output_type": "stream",
     "text": [
      "100%|███████████████████████████████████| 20666/20666 [00:02<00:00, 9951.95it/s]\n",
      "100%|█████████████████████████████████████| 2296/2296 [00:00<00:00, 9747.81it/s]"
     ]
    },
    {
     "name": "stdout",
     "output_type": "stream",
     "text": [
      "3/6 train,valid XML extracted and added\n"
     ]
    },
    {
     "name": "stderr",
     "output_type": "stream",
     "text": [
      "\n"
     ]
    }
   ],
   "source": [
    "\n",
    "tqdm.pandas() # Progress bar\n",
    "\n",
    "# Use defined functions to add new col with XML tags in statements\n",
    "df_train_merged['A_XML_statement'] = df_train_merged.progress_apply(\n",
    "    lambda row: insert_xml_tags(row['statement'], row['A_raw_entities']),\n",
    "    axis=1\n",
    ")\n",
    "\n",
    "df_test['A_XML_statement'] = df_test.progress_apply(\n",
    "    lambda row: insert_xml_tags(row['statement'], row['A_raw_entities']),\n",
    "    axis=1\n",
    ")\n",
    "print('3/6 train,valid XML extracted and added')"
   ]
  },
  {
   "cell_type": "code",
   "execution_count": 8,
   "id": "daf08455-e749-49b0-b346-05ebae812533",
   "metadata": {},
   "outputs": [
    {
     "name": "stderr",
     "output_type": "stream",
     "text": [
      "Some weights of BertForSequenceClassification were not initialized from the model checkpoint at bert-base-cased and are newly initialized: ['classifier.bias', 'classifier.weight']\n",
      "You should probably TRAIN this model on a down-stream task to be able to use it for predictions and inference.\n",
      "The new embeddings will be initialized from a multivariate normal distribution that has old embeddings' mean and covariance. As described in this article: https://nlp.stanford.edu/~johnhew/vocab-expansion.html. To disable this, use `mean_resizing=False`\n"
     ]
    }
   ],
   "source": [
    "\n",
    "# Add XML tags to tokenizer vocabulary\n",
    "tokenizer = BertTokenizerFast.from_pretrained(\"bert-base-cased\", do_lower_case=False)\n",
    "model = BertForSequenceClassification.from_pretrained(\"bert-base-cased\", num_labels=2)\n",
    "\n",
    "# Pridaj špeciálne XML tagy\n",
    "special_tokens = ['<PER>', '</PER>', '<ORG>', '</ORG>', '<LOC>', '</LOC>', '<MISC>', '</MISC>']\n",
    "tokenizer.add_special_tokens({'additional_special_tokens': special_tokens})\n",
    "\n",
    "# Load bert for classification\n",
    "#model = BertForSequenceClassification.from_pretrained(\"bert-base-uncased\", num_labels=2)\n",
    "model.resize_token_embeddings(len(tokenizer))\n",
    "\n",
    "train_encodings = tokenizer(\n",
    "    df_train_merged['A_XML_statement'].tolist(),\n",
    "    truncation=True,\n",
    "    padding=True\n",
    ")\n",
    "\n",
    "test_encodings = tokenizer(\n",
    "    df_test['A_XML_statement'].tolist(),\n",
    "    truncation=True,\n",
    "    padding=True\n",
    ")\n",
    "\n",
    "train_labels = df_train_merged['label_binary'].tolist()\n",
    "test_labels = df_test['label_binary'].tolist()"
   ]
  },
  {
   "cell_type": "code",
   "execution_count": 9,
   "id": "391ab677-1f6b-43cd-abaf-4d377c9e982f",
   "metadata": {},
   "outputs": [
    {
     "name": "stdout",
     "output_type": "stream",
     "text": [
      "['<PER>', 'Barack', 'Obama', '</PER>', 'is', 'president', '.']\n",
      "[28996, 28997]\n"
     ]
    }
   ],
   "source": [
    "# 1) Tokenisation sanity‑print\n",
    "print(tokenizer.tokenize(\"<PER>Barack Obama</PER> is president.\"))\n",
    "#  → should be ['<PER>', 'Barack', 'Obama', '</PER>', 'is', 'president', '.']\n",
    "\n",
    "# 2) Make sure the new tokens really got IDs (≠ [UNK] = 100)\n",
    "print(tokenizer.convert_tokens_to_ids(['<PER>', '</PER>']))\n",
    "#  → two integers, both > 100  (any 100 means UNK, i.e. something went wrong)"
   ]
  },
  {
   "cell_type": "code",
   "execution_count": 10,
   "id": "a10e5802-6a2e-4464-ae20-b234d5e418a1",
   "metadata": {},
   "outputs": [
    {
     "name": "stdout",
     "output_type": "stream",
     "text": [
      "4/6 Converted to datasets\n"
     ]
    }
   ],
   "source": [
    "\n",
    "# Save as dataset\n",
    "class NERDataset(torch.utils.data.Dataset):\n",
    "    def __init__(self, encodings, labels):\n",
    "        self.encodings = encodings\n",
    "        self.labels = labels\n",
    "\n",
    "    def __getitem__(self, idx):\n",
    "        item = {key: torch.tensor(val[idx]) for key, val in self.encodings.items()}\n",
    "        item[\"labels\"] = torch.tensor(self.labels[idx])\n",
    "        return item\n",
    "\n",
    "    def __len__(self):\n",
    "        return len(self.labels)\n",
    "\n",
    "train_dataset = NERDataset(train_encodings, train_labels)\n",
    "test_dataset = NERDataset(test_encodings, test_labels)\n",
    "print('4/6 Converted to datasets')"
   ]
  },
  {
   "cell_type": "code",
   "execution_count": 11,
   "id": "de363e2a-5183-405b-8215-eeea2de73353",
   "metadata": {},
   "outputs": [],
   "source": [
    "\n",
    "def compute_metrics(pred):\n",
    "    labels = pred.label_ids\n",
    "    preds = pred.predictions.argmax(-1)\n",
    "    return {\n",
    "        'accuracy': accuracy_score(labels, preds),\n",
    "        'f1': f1_score(labels, preds),\n",
    "        'precision': precision_score(labels, preds),\n",
    "        'recall': recall_score(labels, preds)\n",
    "    }\n"
   ]
  },
  {
   "cell_type": "code",
   "execution_count": 12,
   "id": "4d586a75-1c89-463e-aaa0-61e0877db4d4",
   "metadata": {},
   "outputs": [
    {
     "name": "stdout",
     "output_type": "stream",
     "text": [
      "Training in progress\n",
      "Training best_model_run...\n"
     ]
    },
    {
     "name": "stderr",
     "output_type": "stream",
     "text": [
      "Some weights of BertForSequenceClassification were not initialized from the model checkpoint at bert-base-cased and are newly initialized: ['classifier.bias', 'classifier.weight']\n",
      "You should probably TRAIN this model on a down-stream task to be able to use it for predictions and inference.\n",
      "/home/matus/.conda/envs/matus_env/lib/python3.10/site-packages/transformers/training_args.py:1594: FutureWarning: `evaluation_strategy` is deprecated and will be removed in version 4.46 of 🤗 Transformers. Use `eval_strategy` instead\n",
      "  warnings.warn(\n",
      "Detected kernel version 4.18.0, which is below the recommended minimum of 5.5.0; this can cause the process to hang. It is recommended to upgrade the kernel to the minimum version or higher.\n"
     ]
    },
    {
     "data": {
      "text/html": [
       "\n",
       "    <div>\n",
       "      \n",
       "      <progress value='1292' max='1292' style='width:300px; height:20px; vertical-align: middle;'></progress>\n",
       "      [1292/1292 09:00, Epoch 2/2]\n",
       "    </div>\n",
       "    <table border=\"1\" class=\"dataframe\">\n",
       "  <thead>\n",
       " <tr style=\"text-align: left;\">\n",
       "      <th>Epoch</th>\n",
       "      <th>Training Loss</th>\n",
       "      <th>Validation Loss</th>\n",
       "      <th>Accuracy</th>\n",
       "      <th>F1</th>\n",
       "      <th>Precision</th>\n",
       "      <th>Recall</th>\n",
       "    </tr>\n",
       "  </thead>\n",
       "  <tbody>\n",
       "    <tr>\n",
       "      <td>1</td>\n",
       "      <td>0.578000</td>\n",
       "      <td>0.542948</td>\n",
       "      <td>0.696864</td>\n",
       "      <td>0.679263</td>\n",
       "      <td>0.615706</td>\n",
       "      <td>0.757451</td>\n",
       "    </tr>\n",
       "    <tr>\n",
       "      <td>2</td>\n",
       "      <td>0.493300</td>\n",
       "      <td>0.550031</td>\n",
       "      <td>0.704268</td>\n",
       "      <td>0.668942</td>\n",
       "      <td>0.636364</td>\n",
       "      <td>0.705036</td>\n",
       "    </tr>\n",
       "  </tbody>\n",
       "</table><p>"
      ],
      "text/plain": [
       "<IPython.core.display.HTML object>"
      ]
     },
     "metadata": {},
     "output_type": "display_data"
    },
    {
     "data": {
      "text/html": [
       "\n",
       "    <div>\n",
       "      \n",
       "      <progress value='72' max='72' style='width:300px; height:20px; vertical-align: middle;'></progress>\n",
       "      [72/72 00:08]\n",
       "    </div>\n",
       "    "
      ],
      "text/plain": [
       "<IPython.core.display.HTML object>"
      ]
     },
     "metadata": {},
     "output_type": "display_data"
    },
    {
     "name": "stdout",
     "output_type": "stream",
     "text": [
      "5/6 training done. Saving as csv\n",
      "6/6 saved as .csv\n"
     ]
    }
   ],
   "source": [
    "\n",
    "# TRAIN\n",
    "print('Training in progress')\n",
    "\n",
    "all_results = []\n",
    "\n",
    "for config in experiment_configs:\n",
    "    print(f\"Training {config['name']}...\")\n",
    "\n",
    "    model = BertForSequenceClassification.from_pretrained(\"bert-base-cased\", num_labels=2)\n",
    "    model.resize_token_embeddings(len(tokenizer))\n",
    "\n",
    "    training_args = TrainingArguments(\n",
    "        output_dir=f\"./results/{config['name']}\",\n",
    "        evaluation_strategy=\"epoch\",\n",
    "        logging_strategy=\"epoch\",\n",
    "        per_device_train_batch_size=config['batch_size'],\n",
    "        per_device_eval_batch_size=config['batch_size'],\n",
    "        num_train_epochs=config['epochs'],\n",
    "        learning_rate=config['lr'],\n",
    "        weight_decay=0.01,\n",
    "        logging_dir=f\"./logs/{config['name']}\",\n",
    "        save_strategy=\"epoch\",\n",
    "        report_to=\"none\",  # don't use wandb/huggingface\n",
    "        metric_for_best_model=\"f1\",        # 👈 Use F1 for early stopping\n",
    "        greater_is_better=True,            # 👈 Higher F1 = better\n",
    "        load_best_model_at_end=True,\n",
    "        fp16=False\n",
    "    )\n",
    "\n",
    "    trainer = Trainer(\n",
    "        model=model,\n",
    "        args=training_args,\n",
    "        train_dataset=train_dataset,\n",
    "        eval_dataset=test_dataset,\n",
    "        compute_metrics=compute_metrics,\n",
    "        callbacks=[EarlyStoppingCallback(early_stopping_patience=2)]\n",
    "    )\n",
    "\n",
    "    trainer.train()\n",
    "    eval_result = trainer.evaluate()\n",
    "\n",
    "    all_results.append({\n",
    "    \"name\": config[\"name\"],\n",
    "    \"epochs\": config[\"epochs\"],\n",
    "    \"batch_size\": config[\"batch_size\"],\n",
    "    \"lr\": config[\"lr\"],\n",
    "    \"accuracy\": eval_result.get(\"eval_accuracy\", None),\n",
    "    \"f1\": eval_result.get(\"eval_f1\", None),\n",
    "    \"precision\": eval_result.get(\"eval_precision\", None),\n",
    "    \"recall\": eval_result.get(\"eval_recall\", None),\n",
    "    \"best_f1\": trainer.state.best_metric,\n",
    "    \"final_epoch\": trainer.state.epoch,\n",
    "    \"best_checkpoint\": trainer.state.best_model_checkpoint,\n",
    "    \"best_step\": int(trainer.state.best_model_checkpoint.split(\"-\")[-1]) if trainer.state.best_model_checkpoint else None\n",
    "})\n",
    "\n",
    "\n",
    "\n",
    "print('5/6 training done. Saving as csv')\n",
    "\n",
    "results_df = pd.DataFrame(all_results)\n",
    "\n",
    "results_df.to_csv(\"COPY_bert_ft_final_train.csv\", index=False)\n",
    "print('6/6 saved as .csv')\n",
    "\n"
   ]
  },
  {
   "cell_type": "code",
   "execution_count": 13,
   "id": "43b35457-26f2-416d-a719-2ec7435081c9",
   "metadata": {},
   "outputs": [
    {
     "name": "stdout",
     "output_type": "stream",
     "text": [
      "transformers: 4.49.0\n",
      "accelerate:   1.6.0\n",
      "torch:        2.6.0+cu118\n"
     ]
    }
   ],
   "source": [
    "import transformers, accelerate, torch\n",
    "print(\"transformers:\", transformers.__version__)\n",
    "print(\"accelerate:  \", accelerate.__version__)\n",
    "print(\"torch:       \", torch.__version__)"
   ]
  },
  {
   "cell_type": "code",
   "execution_count": null,
   "id": "b20a56a8-1ae1-4f87-9c72-4694bb7d26a7",
   "metadata": {},
   "outputs": [],
   "source": []
  },
  {
   "cell_type": "code",
   "execution_count": null,
   "id": "2b71746e-2774-4259-8590-37372da543b1",
   "metadata": {},
   "outputs": [],
   "source": []
  },
  {
   "cell_type": "code",
   "execution_count": null,
   "id": "31a337e9-6286-4e99-af10-0a894b7011b4",
   "metadata": {},
   "outputs": [],
   "source": []
  },
  {
   "cell_type": "code",
   "execution_count": null,
   "id": "a0a3f4d3-9f00-4ecc-92cb-900d55cfe612",
   "metadata": {},
   "outputs": [],
   "source": []
  }
 ],
 "metadata": {
  "kernelspec": {
   "display_name": "Python 3 (ipykernel)",
   "language": "python",
   "name": "python3"
  },
  "language_info": {
   "codemirror_mode": {
    "name": "ipython",
    "version": 3
   },
   "file_extension": ".py",
   "mimetype": "text/x-python",
   "name": "python",
   "nbconvert_exporter": "python",
   "pygments_lexer": "ipython3",
   "version": "3.10.16"
  }
 },
 "nbformat": 4,
 "nbformat_minor": 5
}
