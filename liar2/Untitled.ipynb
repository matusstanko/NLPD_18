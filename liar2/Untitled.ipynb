{
 "cells": [
  {
   "cell_type": "code",
   "execution_count": 1,
   "id": "28ac2198-6e2e-4078-9e89-a51c2f32ca07",
   "metadata": {},
   "outputs": [],
   "source": [
    "import pandas as pd"
   ]
  },
  {
   "cell_type": "code",
   "execution_count": 6,
   "id": "1b2ce1af-dc6c-4054-a76d-7093cbecec61",
   "metadata": {},
   "outputs": [],
   "source": [
    "df_train = pd.read_csv('train.csv')\n",
    "df_test = pd.read_csv('test.csv')\n",
    "df_valid = pd.read_csv('valid.csv')"
   ]
  },
  {
   "cell_type": "code",
   "execution_count": 7,
   "id": "3e426bbb-b75b-4fe8-b606-0675c9a17b04",
   "metadata": {},
   "outputs": [
    {
     "name": "stdout",
     "output_type": "stream",
     "text": [
      "Train set:\n",
      "  Total samples: 18369\n",
      "  #1 (true)   : 10591 (57.66%)\n",
      "  #0 (false)  : 7778 (42.34%)\n",
      "\n",
      "Validation set:\n",
      "  Total samples: 2297\n",
      "  #1 (true)   : 1325 (57.68%)\n",
      "  #0 (false)  : 972 (42.32%)\n",
      "\n",
      "Test set:\n",
      "  Total samples: 2296\n",
      "  #1 (true)   : 1323 (57.62%)\n",
      "  #0 (false)  : 973 (42.38%)\n",
      "\n"
     ]
    }
   ],
   "source": [
    "def map_to_binary_label(x):\n",
    "    if x in [0, 1, 2]:\n",
    "        return 1\n",
    "    else:\n",
    "        return 0\n",
    "\n",
    "df_train['label_binary'] = df_train['label'].apply(map_to_binary_label)\n",
    "df_valid['label_binary'] = df_valid['label'].apply(map_to_binary_label)\n",
    "df_test['label_binary'] = df_test['label'].apply(map_to_binary_label)\n",
    "\n",
    "# 3) Show balances\n",
    "def show_balance(df, name):\n",
    "    # Count how many are 1 vs 0\n",
    "    ones = (df['label_binary'] == 1).sum()\n",
    "    zeros = (df['label_binary'] == 0).sum()\n",
    "    total = len(df)\n",
    "    print(f\"{name} set:\")\n",
    "    print(f\"  Total samples: {total}\")\n",
    "    print(f\"  #1 (true)   : {ones} ({ones/total:.2%})\")\n",
    "    print(f\"  #0 (false)  : {zeros} ({zeros/total:.2%})\\n\")\n",
    "\n",
    "show_balance(df_train, \"Train\")\n",
    "show_balance(df_valid, \"Validation\")\n",
    "show_balance(df_test,  \"Test\")"
   ]
  },
  {
   "cell_type": "code",
   "execution_count": null,
   "id": "4f02b49b-4847-4ee5-bc71-f95abc4397c3",
   "metadata": {},
   "outputs": [],
   "source": []
  },
  {
   "cell_type": "code",
   "execution_count": null,
   "id": "9ccc4c24-b943-4ee0-8626-67fa42d4c4a2",
   "metadata": {},
   "outputs": [],
   "source": []
  }
 ],
 "metadata": {
  "kernelspec": {
   "display_name": "Python 3 (ipykernel)",
   "language": "python",
   "name": "python3"
  },
  "language_info": {
   "codemirror_mode": {
    "name": "ipython",
    "version": 3
   },
   "file_extension": ".py",
   "mimetype": "text/x-python",
   "name": "python",
   "nbconvert_exporter": "python",
   "pygments_lexer": "ipython3",
   "version": "3.10.16"
  }
 },
 "nbformat": 4,
 "nbformat_minor": 5
}
