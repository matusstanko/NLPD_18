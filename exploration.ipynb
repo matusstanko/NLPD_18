{
 "cells": [
  {
   "cell_type": "code",
   "execution_count": 17,
   "metadata": {},
   "outputs": [],
   "source": [
    "import pandas as pd\n",
    "import spacy\n",
    "ner = spacy.load(\"en_core_web_sm\")\n",
    "import matplotlib.pyplot as plt"
   ]
  },
  {
   "cell_type": "code",
   "execution_count": 18,
   "metadata": {},
   "outputs": [
    {
     "data": {
      "text/html": [
       "<div>\n",
       "<style scoped>\n",
       "    .dataframe tbody tr th:only-of-type {\n",
       "        vertical-align: middle;\n",
       "    }\n",
       "\n",
       "    .dataframe tbody tr th {\n",
       "        vertical-align: top;\n",
       "    }\n",
       "\n",
       "    .dataframe thead th {\n",
       "        text-align: right;\n",
       "    }\n",
       "</style>\n",
       "<table border=\"1\" class=\"dataframe\">\n",
       "  <thead>\n",
       "    <tr style=\"text-align: right;\">\n",
       "      <th></th>\n",
       "      <th>id</th>\n",
       "      <th>label</th>\n",
       "      <th>statement</th>\n",
       "      <th>date</th>\n",
       "      <th>subject</th>\n",
       "      <th>speaker</th>\n",
       "      <th>speaker_description</th>\n",
       "      <th>state_info</th>\n",
       "      <th>true_counts</th>\n",
       "      <th>mostly_true_counts</th>\n",
       "      <th>half_true_counts</th>\n",
       "      <th>mostly_false_counts</th>\n",
       "      <th>false_counts</th>\n",
       "      <th>pants_on_fire_counts</th>\n",
       "      <th>context</th>\n",
       "      <th>justification</th>\n",
       "    </tr>\n",
       "  </thead>\n",
       "  <tbody>\n",
       "    <tr>\n",
       "      <th>0</th>\n",
       "      <td>13847</td>\n",
       "      <td>5</td>\n",
       "      <td>90 percent of Americans \"support universal bac...</td>\n",
       "      <td>October 2, 2017</td>\n",
       "      <td>government regulation;polls and public opinion...</td>\n",
       "      <td>chris abele</td>\n",
       "      <td>Chris Abele is Milwaukee County Executive, a p...</td>\n",
       "      <td>wisconsin</td>\n",
       "      <td>1</td>\n",
       "      <td>4</td>\n",
       "      <td>5</td>\n",
       "      <td>3</td>\n",
       "      <td>5</td>\n",
       "      <td>2</td>\n",
       "      <td>a tweet</td>\n",
       "      <td>\"Universal\" is the term for background checks ...</td>\n",
       "    </tr>\n",
       "    <tr>\n",
       "      <th>1</th>\n",
       "      <td>13411</td>\n",
       "      <td>1</td>\n",
       "      <td>Last year was one of the deadliest years ever ...</td>\n",
       "      <td>May 19, 2017</td>\n",
       "      <td>after the fact;congress;criminal justice;histo...</td>\n",
       "      <td>thom tillis</td>\n",
       "      <td>Thom Tillis is a Republican who serves as U.S....</td>\n",
       "      <td>north carolina</td>\n",
       "      <td>0</td>\n",
       "      <td>2</td>\n",
       "      <td>7</td>\n",
       "      <td>3</td>\n",
       "      <td>2</td>\n",
       "      <td>0</td>\n",
       "      <td>a press release supporting the Back The Blue A...</td>\n",
       "      <td>Sen. Thom Tillis, a North Carolina Republican,...</td>\n",
       "    </tr>\n",
       "    <tr>\n",
       "      <th>2</th>\n",
       "      <td>10882</td>\n",
       "      <td>0</td>\n",
       "      <td>Bernie Sanders's plan is \"to raise your taxes ...</td>\n",
       "      <td>October 28, 2015</td>\n",
       "      <td>taxes</td>\n",
       "      <td>chris christie</td>\n",
       "      <td>Chris Christie announced June 6, 2023 that he ...</td>\n",
       "      <td>national</td>\n",
       "      <td>21</td>\n",
       "      <td>20</td>\n",
       "      <td>27</td>\n",
       "      <td>11</td>\n",
       "      <td>17</td>\n",
       "      <td>8</td>\n",
       "      <td>Boulder, Colo</td>\n",
       "      <td>Christie said that Sanders’s plan is \"to raise...</td>\n",
       "    </tr>\n",
       "  </tbody>\n",
       "</table>\n",
       "</div>"
      ],
      "text/plain": [
       "      id  label                                          statement  \\\n",
       "0  13847      5  90 percent of Americans \"support universal bac...   \n",
       "1  13411      1  Last year was one of the deadliest years ever ...   \n",
       "2  10882      0  Bernie Sanders's plan is \"to raise your taxes ...   \n",
       "\n",
       "               date                                            subject  \\\n",
       "0   October 2, 2017  government regulation;polls and public opinion...   \n",
       "1      May 19, 2017  after the fact;congress;criminal justice;histo...   \n",
       "2  October 28, 2015                                              taxes   \n",
       "\n",
       "          speaker                                speaker_description  \\\n",
       "0     chris abele  Chris Abele is Milwaukee County Executive, a p...   \n",
       "1     thom tillis  Thom Tillis is a Republican who serves as U.S....   \n",
       "2  chris christie  Chris Christie announced June 6, 2023 that he ...   \n",
       "\n",
       "       state_info  true_counts  mostly_true_counts  half_true_counts  \\\n",
       "0       wisconsin            1                   4                 5   \n",
       "1  north carolina            0                   2                 7   \n",
       "2        national           21                  20                27   \n",
       "\n",
       "   mostly_false_counts  false_counts  pants_on_fire_counts  \\\n",
       "0                    3             5                     2   \n",
       "1                    3             2                     0   \n",
       "2                   11            17                     8   \n",
       "\n",
       "                                             context  \\\n",
       "0                                            a tweet   \n",
       "1  a press release supporting the Back The Blue A...   \n",
       "2                                      Boulder, Colo   \n",
       "\n",
       "                                       justification  \n",
       "0  \"Universal\" is the term for background checks ...  \n",
       "1  Sen. Thom Tillis, a North Carolina Republican,...  \n",
       "2  Christie said that Sanders’s plan is \"to raise...  "
      ]
     },
     "execution_count": 18,
     "metadata": {},
     "output_type": "execute_result"
    }
   ],
   "source": [
    "df = pd.DataFrame(pd.read_csv('liar2/train.csv'))\n",
    "df.head(3)"
   ]
  },
  {
   "cell_type": "code",
   "execution_count": 19,
   "metadata": {},
   "outputs": [
    {
     "name": "stdout",
     "output_type": "stream",
     "text": [
      "7778\n",
      "10591\n"
     ]
    }
   ],
   "source": [
    "df['label_binary'] = df['label'].isin([3, 4, 5]).astype(int)\n",
    "\n",
    "df_true = df[df['label_binary'] == 1]\n",
    "df_false = df[df['label_binary'] == 0]\n",
    "print(df_true.shape[0])\n",
    "print(df_false.shape[0])"
   ]
  },
  {
   "cell_type": "code",
   "execution_count": 20,
   "metadata": {},
   "outputs": [
    {
     "data": {
      "image/png": "[encoded data removed]",
      "text/plain": [
       "<Figure size 600x400 with 1 Axes>"
      ]
     },
     "metadata": {},
     "output_type": "display_data"
    }
   ],
   "source": [
    "labels = ['True', 'False']\n",
    "counts = [df_true.shape[0], df_false.shape[0]]\n",
    "\n",
    "plt.figure(figsize=(6, 4))\n",
    "bars = plt.bar(labels, counts)\n",
    "\n",
    "for bar in bars:\n",
    "    height = bar.get_height()\n",
    "    plt.text(bar.get_x() + bar.get_width() / 2, height + 100, str(height),\n",
    "             ha='center', va='bottom', fontsize=10)\n",
    "\n",
    "plt.title('Number of True vs False Statements')\n",
    "plt.ylabel('Count')\n",
    "plt.xlabel('Label')\n",
    "plt.grid(axis='y', linestyle='--', alpha=0.7)\n",
    "plt.tight_layout()\n",
    "plt.show()"
   ]
  },
  {
   "cell_type": "code",
   "execution_count": null,
   "metadata": {},
   "outputs": [],
   "source": [
    "from pyspark.sql import SparkSession\n",
    "\n",
    "# create spark session\n",
    "spark = SparkSession.builder \\\n",
    "    .appName(\"YelpAnalysis\") \\\n",
    "    .getOrCreate()\n",
    "\n",
    "print(spark)"
   ]
  },
  {
   "cell_type": "code",
   "execution_count": null,
   "metadata": {},
   "outputs": [],
   "source": [
    "# QUESTION 1\n",
    "from pyspark.sql.functions import count\n",
    "\n",
    "# Load the review dataset\n",
    "review_df = spark.read.json(\"../../yelp/yelp_academic_dataset_review.json\")\n",
    "\n",
    "# Get the total number of reviews\n",
    "total_reviews = review_df.agg(count(\"*\").alias(\"total_reviews\"))\n",
    "    # .agg() applies an aggregation (count)\n",
    "    # count(\"*\") counts all (*) rows in the dataframe\n",
    "    # .alias(\"total_reviews\") renames the column to \"total_reviews\"\n",
    "total_reviews.show()"
   ]
  },
  {
   "cell_type": "code",
   "execution_count": null,
   "metadata": {},
   "outputs": [],
   "source": [
    "# QUESTION 2\n",
    "from pyspark.sql.functions import col\n",
    "\n",
    "# Load the business dataset\n",
    "business_df = spark.read.json(\"../../yelp/yelp_academic_dataset_business.json\")\n",
    "\n",
    "# Filter businesses that have 5 stars and at least 500 reviews\n",
    "five_star_businesses = business_df.filter(\n",
    "    (col(\"stars\") == 5.0) & (col(\"review_count\") >= 500)\n",
    ").select(\"name\", \"stars\", \"review_count\")\n",
    "\n",
    "five_star_businesses.show(10)"
   ]
  }
 ],
 "metadata": {
  "kernelspec": {
   "display_name": "Python 3",
   "language": "python",
   "name": "python3"
  },
  "language_info": {
   "codemirror_mode": {
    "name": "ipython",
    "version": 3
   },
   "file_extension": ".py",
   "mimetype": "text/x-python",
   "name": "python",
   "nbconvert_exporter": "python",
   "pygments_lexer": "ipython3",
   "version": "3.12.5"
  }
 },
 "nbformat": 4,
 "nbformat_minor": 2
}
