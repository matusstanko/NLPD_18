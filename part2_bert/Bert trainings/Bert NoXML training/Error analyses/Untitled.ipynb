{
 "cells": [
  {
   "cell_type": "code",
   "execution_count": 1,
   "id": "df2c6921-f738-4d94-bb29-b4bb1bef8c03",
   "metadata": {},
   "outputs": [],
   "source": [
    "# Imports\n",
    "import os, random, numpy as np, torch, pandas as pd, matplotlib.pyplot as plt\n",
    "from tqdm.auto import tqdm\n",
    "from sklearn.metrics import (accuracy_score, f1_score, precision_score, recall_score,\n",
    "                             confusion_matrix, ConfusionMatrixDisplay,\n",
    "                             roc_curve, auc)\n",
    "from transformers import (BertTokenizerFast, BertForSequenceClassification,\n",
    "                          Trainer, TrainingArguments, set_seed)"
   ]
  },
  {
   "cell_type": "code",
   "execution_count": 2,
   "id": "dd18aae1-d1cf-46dd-9071-bde6017480f0",
   "metadata": {},
   "outputs": [],
   "source": [
    "\n",
    "# Seed\n",
    "SEED = 42\n",
    "random.seed(SEED)\n",
    "np.random.seed(SEED)\n",
    "torch.manual_seed(SEED)\n",
    "torch.cuda.manual_seed_all(SEED)              \n",
    "set_seed(SEED)                                \n",
    "torch.backends.cudnn.deterministic = True     \n",
    "torch.backends.cudnn.benchmark = False\n",
    "tqdm.pandas()\n",
    "\n",
    "# Parameters\n",
    "CFG = dict(\n",
    "    name        = \"bert_noXML\",\n",
    "    epochs      = 7,\n",
    "    batch_size  = 16,\n",
    "    lr          = 3e-5,\n",
    "    data_dir    = \"/home/matus/NLPD_18/data\"   \n",
    ")"
   ]
  },
  {
   "cell_type": "code",
   "execution_count": null,
   "id": "a52922ee-593c-4baa-9748-5e3a3afb38c3",
   "metadata": {},
   "outputs": [],
   "source": [
    "df_train = pd.read_csv(f\"{CFG['data_dir']}/output_train.csv\")"
   ]
  }
 ],
 "metadata": {
  "kernelspec": {
   "display_name": "Python 3 (ipykernel)",
   "language": "python",
   "name": "python3"
  },
  "language_info": {
   "codemirror_mode": {
    "name": "ipython",
    "version": 3
   },
   "file_extension": ".py",
   "mimetype": "text/x-python",
   "name": "python",
   "nbconvert_exporter": "python",
   "pygments_lexer": "ipython3",
   "version": "3.10.16"
  }
 },
 "nbformat": 4,
 "nbformat_minor": 5
}
